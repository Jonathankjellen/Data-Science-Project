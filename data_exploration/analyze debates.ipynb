{
 "cells": [
  {
   "cell_type": "markdown",
   "id": "3da632cc",
   "metadata": {},
   "source": [
    "# Written by jonathan kjellen\n"
   ]
  },
  {
   "cell_type": "code",
   "execution_count": null,
   "id": "f55525ae",
   "metadata": {},
   "outputs": [],
   "source": [
    "# The following file paths need to contain the correct files for this notebook to run:\n",
    "file_path_debates = '../data/data 2018-09-09 2022-09-11/data_debates_2018-09-09_to_2022-09-11.txt'"
   ]
  },
  {
   "cell_type": "code",
   "execution_count": 2,
   "id": "7575629e",
   "metadata": {},
   "outputs": [],
   "source": [
    "import matplotlib.pyplot as plt\n",
    "import json\n",
    "import requests\n",
    "import re\n",
    "import pandas as pd\n",
    "import numpy as np"
   ]
  },
  {
   "cell_type": "code",
   "execution_count": 3,
   "id": "1cf31be1",
   "metadata": {},
   "outputs": [],
   "source": [
    "\n",
    "with open(file_path_debates, 'r') as openfile:\n",
    "    # Reading from json file\n",
    "    json_object = json.load(openfile)\n",
    "df = pd.DataFrame(json_object)\n",
    "df = df.drop_duplicates(subset='id_')"
   ]
  },
  {
   "cell_type": "code",
   "execution_count": 4,
   "id": "2a66a6d6",
   "metadata": {},
   "outputs": [
    {
     "name": "stdout",
     "output_type": "stream",
     "text": [
      "<class 'pandas.core.frame.DataFrame'>\n",
      "Int64Index: 1874 entries, 0 to 2199\n",
      "Data columns (total 10 columns):\n",
      " #   Column                  Non-Null Count  Dtype \n",
      "---  ------                  --------------  ----- \n",
      " 0   id_                     1874 non-null   object\n",
      " 1   question                1874 non-null   object\n",
      " 2   question_date           1874 non-null   object\n",
      " 3   answer                  1874 non-null   object\n",
      " 4   undertecknare_name      1874 non-null   object\n",
      " 5   undertecknare_partibet  1874 non-null   object\n",
      " 6   besvaradav_name         1874 non-null   object\n",
      " 7   besvaradav_partibet     1874 non-null   object\n",
      " 8   debattdag               1874 non-null   object\n",
      " 9   ip_id                   1874 non-null   object\n",
      "dtypes: object(10)\n",
      "memory usage: 161.0+ KB\n"
     ]
    }
   ],
   "source": [
    "df.info()"
   ]
  },
  {
   "cell_type": "code",
   "execution_count": 5,
   "id": "6a56d3f0",
   "metadata": {},
   "outputs": [
    {
     "data": {
      "text/plain": [
       "[{'answer': 'Anf.\\xa0\\xa061\\xa0\\xa0Statsrådet ANNA-CAREN SÄTHERBERG\\xa0(S):Fru talman! Jens Holm har frågat klimat- och miljöministern om ministern avser att vidta omedelbara åtgärder för att minska skogens sårbarhet för klimat och biologisk mångfald, om ministern avser att vidta åtgärder för att långsiktigt säkra skydd för de kvarvarande gamla naturskogarna på grund av deras höga biologiska värden och stora kollager, om ministern avser att verka för skogsbruksmetoder baserade på den bästa vetenskapliga kunskapen samt om ministern avser att vidta ytterligare åtgärder för att stärka skogens alla värden, inklusive lokal och global klimatnytta, rening av luft och vatten, turism och rekreation.Arbetet inom regeringen är så fördelat att de frågor som tas upp i interpellationen huvudsakligen faller inom mitt ansvarsområde, och interpella\\xadtionen besvaras därför av mig.Klimatförändringarna kan komma att innebära fler konsekvenser för skogsbruket. Det är därför viktigt att skogsskötseln planeras med rådande och framtida klimatförändringar i åtanke. Skogsstyrelsens handlingsplan för klimatanpassning är en viktig del i arbetet. Skogsnäringen kan bidra till klimatnytta bland annat genom att biobaserade alternativ i allt högre grad ersätter fossilbaserade råvaror och produkter.Den 10 november förra året lade regeringen propositionen Stärkt äganderätt, flexibla skyddsformer och ökade incitament för naturvården i skogen med frivillighet som grund (prop. 2021/22:58) på riksdagens bord. Propositionen innehåller åtgärder bland annat för att stärka den biologiska mångfalden och minska sårbarheten i ett ändrat klimat. Propositionen är nu under behandling i riksdagen.Skyddsvärda skogsnaturtyper finns i hela landet. Många av värdena bevaras bäst genom att lämnas orörda, medan andra värden gynnas genom aktiv skötsel. Regeringen har en tydlig ambition att skyddsvärda skogar inte ska avverkas utan bevaras antingen genom formellt skydd eller genom frivilliga avsättningar. I propositionen finns därför flera åtgärder för att skydda sådan skog. Bland annat innehåller propositionen förslag om ersättningsmark till ägare av skyddsvärd skog, och regeringen aviserar ett flertal uppdrag om bland annat utvecklade styrmedel och arbetsformer för naturvård samt nya och utvidgade nationalparker.Längs hela den svenska fjällkedjan finns det stora sammanhängande områden med naturskogar som till stora delar är opåverkade, och där finns det höga naturvärden. Naturskogarna är belägna ovan och i nära anslutning till gränsen för fjällnära skog. Skydd av dessa skogar bidrar tillsammans med skydd av andra skogar till Sveriges internationella åtaganden enligt konventionen för biologisk mångfald.\\xa0 Vid utgången av 2020 var 561\\xa0000 hektar produktiv skogsmark ovan gränsen för fjällnära skog formellt skyddad. Det motsvarar hälften av all produktiv skogsmark i området. I propositionen bedömer regeringen att skyddsvärda statliga skogar ovan och i nära anslutning till gränsen för fjällnära skog bör få områdesskydd så snart det är möjligt.Svar på interpellationerRegeringen bedömer att ett förslag till nationellt mål för ökad hållbar tillväxt i skogen bör tas fram. Målets fokus bör ligga på ökad tillväxt i biomassa genom förbättrad skogsskötsel samtidigt som klimatanpassning och den biologiska mångfalden ökar. Med syfte att bidra till målsättningen om ökad hållbar tillväxt bör en långsiktig rådgivningskampanj tas fram. Skogsägare bör stödjas i att utveckla resilienta och vitala skogssystem som har förmåga att anpassa sig till ett förändrat klimat samt brukningsmetoder som understöder ett klimatanpassat skogsbruk. Regeringen anser även att staten bör vara föregångare i hållbart skogsbruk och ta stor natur- och kulturmiljöhänsyn samt hänsyn till rennäringen.Sammanfattningsvis är det min bedömning att den framlagda proposi\\xadtionen kommer att bidra till att stärka skogens många värden, och jag ser fram emot riksdagens behandling av denna.',\n",
       "  'besvaradav_name': 'Statsrådet ANNA-CAREN SÄTHERBERG',\n",
       "  'besvaradav_partibet': 'S'},\n",
       " {'answer': 'Anf.\\xa0\\xa062\\xa0\\xa0JENS HOLM\\xa0(V):Fru talman! Jag vill tacka landsbygdsministern för svaret på min interpellation.I Sverige ses åtminstone från det politiska etablissemanget ofta skogen som en basnäring. Det är den också. Men att skogen är en basnäring skulle vara synonymt med att vi ska hugga ned så mycket skog som möjligt och konvertera träden till timmer, biomassa, papper eller annat är en lite förenklad bild av den otroligt viktiga resurs som skogen är. Skogen har så många andra sidor.Nu har det kommit ett antal intressanta rapporter som pekar just på vikten av att låta skogen stå kvar och växa av klimatskäl. Träden binder helt enkelt kol i både sina grenar och det som växer men även i rotsystemet och det komplexa ekosystem som träd och en skog är. Där finns det mycket kol och andra växthusgaser bundna. Om man hugger ned skogen och förvandlar skogen till ett kalhygge frigörs det enorma mängder av växthusgaser.De nya rönen är väldigt intressanta och viktiga för oss att ta del av. Varje träd binder under sin livstid kanske fem sex ton. Den svenska skogen binder sammanlagt ungefär 50 miljoner ton koldioxid varje år. Det är un\\xadgefär lika mycket som landet Sverige totalt släpper ut. Det är en fantastisk kolsänka, och det görs ett fantastiskt arbete i det tysta bland alla våra träd och allt annat som växer.I Konjunkturinstitutets årsrapport, som jag refererar till i min interpellation, tar KI upp just skogens roll som en kolsänka och det viktiga värde som skogen kan ha. Det handlar om vikten av att vi kanske kan hitta stödsystem för att hjälpa skogsägare att låta skogen stå.Konjunkturinstitutet föreslår till exempel ekonomiska subventioner till skogsägare för att de ska låta skogen stå i stället för att hugga ned den. FN:s klimatpanel IPCC och FN:s panel för biologisk mångfald är inne på liknande resonemang och har uppmanat sina medlemsstater att göra liknande saker.När jag lyssnar på ministerns svar till mig är det flera saker som jag tycker är bra. Regeringen vill skydda mer skog och så vidare, och vi ska ha en hållbar skogsskötsel. Jag skulle vilja att ministern var lite mer konkret gällande det som har föreslagits i olika sammanhang.Det gäller till exempel att hitta nya ekonomiska styrmedel för att hjälpa skogsägarna att låta skogen stå i stället för att hugga ned den. Skulle det kunna vara någonting som ministern skulle kunna överväga?Svar på interpellationerDet är också så att skogsbruket i sig är väldigt viktigt. I Sverige har vi ett skogsbruk som är ensidigt inriktat på trakthyggesbruk, det vill säga att vi förvandlar skogen till ett kalhygge. Vi hugger ned i princip alla träd, och sedan planerar man nya.Borde det inte vara en bra idé att hitta andra former av skogsbruk? Det vill jag fråga ministern. Det kan till exempel vara hyggesfritt skogsbruk – att man inte hugger ned alla träd. Även där kanske vi behöver gå in politiskt och med ekonomiskt stöd för att understödja sådana bruksmetoder.',\n",
       "  'besvaradav_name': 'JENS HOLM',\n",
       "  'besvaradav_partibet': 'V'},\n",
       " {'answer': 'Anf.\\xa0\\xa063\\xa0\\xa0Statsrådet ANNA-CAREN SÄTHERBERG\\xa0(S):Fru talman! Det är som Jens Holm säger: Skogen är vårt gröna guld, och den har så väldigt många värden. En hållbar skogspolitik innehåller alla delar i hållbarhet, det vill säga att det ska vara ekonomiskt och socialt och dessutom miljömässigt.Skogen har byggt vårt välstånd och ska fortsätta att bygga det. Den har skapat många gröna jobb, och det vill jag också se en fortsättning på. Den har varit och är, precis som Jens Holm tar upp, en underbar plats för rekreation, för jakt, för bärplockning och för annat.Skogen har en central roll i klimatarbetet. Jag hörde inte Jens Holm säga det, men det är klart att skogens båda bidrag till arbetet med att ta bort de fossila produkterna och i stället använda skogen klimatmässigt är lika viktiga. Skogen är bra både som kolsänka och som ersättare. Det gäller till exempel när vi bygger i trä, vilket regeringen vill, eller i andra material. Regeringen vill se en större andel träbyggnader. Vi måste hitta balansen mellan att använda skogen klimatsmart, att ha den produktivitet som vi ser i skogen och att bevara den skyddsvärda skogen.Fru talman! Incitament frågade ledamoten mig om. Incitament finns i skogspropositionen och i annat, det vill säga när det gäller de skyddsvärda skogarna som inte ska avverkas. Om man gör en frivillig avsättning där ska man också få mer betalt för skogen – 1,25 i stället för lika mycket som den är värderad till.Det finns många olika forskningsrapporter. Det har just kommit en ny där forskarna har tittat på det boreala skogslandskap som vi tillhör. Den visar tvärtom att vi med ett intensivt brukande har kunnat öka vårt kolförråd. Där man inte har brukat lika intensivt har det i stället varit ungefär likadant. Det tas alltså fram olika spännande forskningsrapporter; i det har ledamoten helt rätt.Som ledamoten säger har vi lämnat en skogsproposition, och den innehåller väldigt mycket. Den innehåller det som ledamoten Jens Holm är orolig för, till exempel klimatförändringarna och skogsbruket. Den innehåller ett ökat stöd och ökade möjligheter för skogsägarna till klimat\\xadanpassning. Den innehåller ersättningsmark för skydd av skog och fortsatt brukande för den enskilde. Den innehåller utvecklade styrmedel och arbetsformer för ökat engagemang för naturvård.Propositionen innehåller alltså väldigt mycket bra. Den innehåller sådant som gör att vi kan fortsätta att se det gröna guldet och att vi kan bruka vår skog men göra det på rätt sätt. Den innehåller också det som alla skogsbruksmetoder – och där ingår även de brukningsmetoder som är naturbaserade lösningar för klimatanpassning – ska vila på, nämligen vetenskaplig grund och beprövad erfarenhet.Svar på interpellationerJag ser fram emot riksdagens behandling av skogspropositionen, som nu sker. Den har redan börjat i miljö- och jordbruksutskottet.',\n",
       "  'besvaradav_name': 'Statsrådet ANNA-CAREN SÄTHERBERG',\n",
       "  'besvaradav_partibet': 'S'},\n",
       " {'answer': 'Anf.\\xa0\\xa064\\xa0\\xa0JENS HOLM\\xa0(V):Fru talman! Jag skulle vilja börja med att kommentera skyddet av fjällnära skog, som ministern nämnde i sitt första svar.Det handlar om ungefär 560\\xa0000 hektar produktiv skogsmark som nu är skyddad. 560\\xa0000 hektar skog – hur mycket är det? 2021 avverkades ungefär 285\\xa0000 hektar skog i Sverige, alltså omkring hälften av hur mycket som vi har skyddat kring fjällen. På två års tid har vi huggit ned lika mycket som det totala skyddet vi har av den fjällnära skogen. Jag tycker att det är intressant att känna till proportionerna lite grann.År 2021 blev det troligen ett rekord i kubikmeter räknat på hur mycket skog som avverkades i Sverige: 96 miljoner kubikmeter! Det är extremt mycket skog som avverkas i Sverige. Jag skulle vilja fråga ministern om hon tycker att det är rimligt mycket. Är det detta som är ett hållbart skogsbruk?Jag tycker att vi i dag har en syn på skogen som är väldigt ensidigt fokuserad på att skogen ska huggas ned. I mer än nio fall av tio är det konventionellt trakthyggesbruk som gäller, det vill säga att man total\\xadavverkar hela skogen. Det är förstås till stort förfång för den biologiska mångfalden och även för jägaren och bärplockaren, som ministern nämnde här. Nästa gång de kommer till skogen står den helt enkelt inte kvar, för allting har huggits ned.Jag skulle vilja fråga ministern: Vilka konkreta stöd för ett alternativt skogsbruk föreslår egentligen regeringen? Finns det några konkreta förslag på hur vi aktivt kan få skogsägare att gå över till exempelvis ett hyggesfritt skogsbruk, där man inte kalavverkar allting?Jag undrar också, fru talman, över de skydd som Anna-Caren Sätherberg pratar om. Det skulle vara intressant att veta vad det är för nya skydds\\xadformer som regeringen egentligen tänker på. Om vi tar det frivilliga skyddet ser vi att det inte är omgärdat av samma skydd som ett formellt skydd. Ett frivilligt skydd kan bytas mot ett annat eller upphävas nästa år och så vidare. Det är ingen långsiktighet i det.Jag skulle helt enkelt vilja veta om ministern har förslag på nya skyddsformer som är långsiktiga och hållbara.Sedan har vi lite av elefanten i rummet, och det är vårt eget gemensam\\xadma skogsbolag: Sveaskog, som är en väldigt stor skogsägare i Sverige. Vi kan inte säga att de bedriver ett särskilt hållbart skogsbruk, åtminstone inte enligt mitt förmenande. Merparten av Sveaskogs skogsbruk bedrivs med trakthygge som norm. Här skulle ministern kunna gå in med nya ägardirekt till Sveaskog och kräva att de ska bedriva mer av hyggesfritt och mer av moderna skonsamma skötselmetoder.Är ministern beredd att ge sådana ägardirektiv till Sveaskog?',\n",
       "  'besvaradav_name': 'JENS HOLM',\n",
       "  'besvaradav_partibet': 'V'},\n",
       " {'answer': 'Anf.\\xa0\\xa065\\xa0\\xa0Statsrådet ANNA-CAREN SÄTHERBERG\\xa0(S):Fru talman och Jens Holm! Jag skulle vilja påminna om att skogspolitiken lades om 1993, när vi fick de båda jämställda målen produktion och miljö. Mycket av den skog vi ser just nu har alltså inte mer än 30 år på nacken.Svar på interpellationerDärför måste man ha en långsiktighet när man diskuterar de här frågor\\xadna och förstå hur en förändring sker. Vi vet ju hur den skogliga tillväxten ser ut. Det handlar om den skog vi ser nu och hur den kommer att se ut i framtiden.Vi har, som ledamoten säkert vet, skoglig tillväxt varje år. Vi har haft skoglig tillväxt i över 100 år. Det handlar om hur man har brukat skogen. När man har tagit ett träd har man också planterat flera. Det är någonting som är det starka med svensk skogspolitik: att man tar hand om sin skog. Mångbruk har vi också, och vi har väldigt många mindre skogsägare som ser till att det blir ett varierat skogsbruk som är bra.Men en sak är helt rätt. Regeringens tydliga åsikt, och det som också står i skogspropositionen, är att staten ska gå före när det gäller skogsbruket. Och det gör man också på väldigt många sätt.Jag ska försöka komma ihåg vad mer ledamoten frågade om. Något jag vill nämna är de frivilliga avsättningarna. Är det något vi vet om Sveriges skogsbrukare – och de är väldigt många – är det att man tar hand om sin skog. Man gör frivilliga avsättningar. Det är naturligtvis inte samma skyddsform, men det skapar den biologiska mångfald som ledamoten pratar om. Det skapar också mervärde i hela skogen. Det tycker jag har tjänat Sverige väl. Vi har formellt skydd, men vi har även de frivilliga avsättningarna. Jag tycker att det är en god ordning.Jag tror också att vi helt enkelt har mer skyddad skog på grund av att vi har en ordning där man kan göra frivilliga avsättningar. Syftet för en skogsbrukare är naturligtvis också att se till att ha en riktigt bra och brukbar skog med de värden som skogsbrukarna vill ha.',\n",
       "  'besvaradav_name': 'Statsrådet ANNA-CAREN SÄTHERBERG',\n",
       "  'besvaradav_partibet': 'S'},\n",
       " {'answer': 'Anf.\\xa0\\xa066\\xa0\\xa0JENS HOLM\\xa0(V):Fru talman! Ministern svarade inte på min fråga om Sveaskog, så nu får ministern ta och göra det. Det gällde nya ägardirektiv till Sveaskog om alternativa bruksmetoder och att överlag styra Sveaskog mot ett mer hållbart skogsbruk. Det är Sveriges största skogsägare vi pratar om, så det är inte oviktigt hur vi styr Sveaskog.Sedan, fru talman, blir jag lite orolig då Anna-Caren Sätherberg pratar om att vi har så stor tillväxt i den svenska skogen. Det är visserligen helt sant, men utifrån ett perspektiv av biologisk mångfald är det lite irrelevant om det vi har är långa rader med monokulturer av träplantager. Vi vill ju ha levande skogar med stor biologisk mångfald, och vi vill också ha blandade skogar så att det inte bara är långa rader med gran eller tall. Vi vill ha mer av lövskog.Då är vi återigen tillbaka vid skogsbruksmetoderna. Det konventionel\\xadla trakthyggesbruket går ut på att man tar ned hela skogen och ersätter den med plantage. Om vi kan ha ett annat, hyggesfritt skogsbruk kan vi ha mycket större variation, vilket är bra för den biologiska mångfalden. Vi låter också mer kol och växthusgaser bindas i skogen om vi låter mer träd stå kvar.Politiken för Sveaskog tycker jag att det är viktigt att ministern svarar på. Det är bra att ministern säger att staten ska gå före, men det finns väldigt mycket kvar att göra här.Jag skulle också vilja ha ett tydligare svar på vilka nya bruksmetoder som regeringen är beredd att understödja. Är regeringen till exempel beredd att reglera för eller gå in med ekonomiska stöd till hyggesfritt skogsbruk för alla skogsägare?',\n",
       "  'besvaradav_name': 'JENS HOLM',\n",
       "  'besvaradav_partibet': 'V'},\n",
       " {'answer': 'Anf.\\xa0\\xa067\\xa0\\xa0Statsrådet ANNA-CAREN SÄTHERBERG\\xa0(S):Svar på interpellationerFru talman! Tack, Jens Holm, för ditt engagemang i de här frågorna! Som jag inledde med är ju skogen det gröna guldet. Den har tjänat oss väl och byggt vårt välstånd, samtidigt som den nu kan bidra stort när det gäller klimatomställningen, både som kolsänka och genom att vi kan ta fram nya produkter i stället för att vara beroende av de fossila produkterna – och även bygga i trä. Jag har väckt en motion i Åre kommunfullmäktige, så nu är Åre den första kommunen i Sverige som har en Wood First Act, det vill säga att man ska välja trä först i byggnationer.Som jag också sa är det regeringens tydliga uppfattning – det står även i skogspropositionen – att staten naturligtvis ska gå före när det gäller ett hållbart skogsbruk. Det finns också i skogspropositionen flera förslag för att ha rådgivningskampanjer och hjälpa skogsbrukare att helt enkelt öka den hållbara skogliga tillväxten men samtidigt kunna utveckla resilienta och vitala skogssystem. Detta innehåller redan skogspropositionen, som jag hoppas får en positiv behandling av riksdagen. Den ligger nämligen nu på riksdagens bord.Men det är helt rätt: Vi måste hitta balansen, och det har vi gjort i våra jämställda mål. Vi måste också se skogen som den klimatomställare den är och använda den på ett bra och klimatsmart sätt.',\n",
       "  'besvaradav_name': 'Statsrådet ANNA-CAREN SÄTHERBERG',\n",
       "  'besvaradav_partibet': 'S'}]"
      ]
     },
     "execution_count": 5,
     "metadata": {},
     "output_type": "execute_result"
    }
   ],
   "source": [
    "df.iloc[1][\"answer\"]"
   ]
  },
  {
   "cell_type": "code",
   "execution_count": 6,
   "id": "a5f32938",
   "metadata": {},
   "outputs": [],
   "source": [
    "mean_answer_length = df['answer'].str.len().mean()\n",
    "min_answer_length = df['answer'].str.len().min()\n",
    "max_answer_length = df['answer'].str.len().max()\n",
    "one_answer_length = (df['answer'].str.len() == 1).sum()\n",
    "count_min_answer = (df['answer'].str.len() == min_answer_length).sum()\n",
    "count_amount_no_debattdag = (df[\"debattdag\"].str.len() == 0).sum()"
   ]
  },
  {
   "cell_type": "code",
   "execution_count": 7,
   "id": "f891bffe",
   "metadata": {
    "scrolled": true
   },
   "outputs": [
    {
     "name": "stdout",
     "output_type": "stream",
     "text": [
      "mean answer length: 6.2235859124866595\n",
      "smallest answer length: 0\n",
      "largest answer length: 21\n",
      "amont of debates with the smallest answer length: 393\n",
      "amount of questions with no debattdag 344\n",
      "amount of questions with one answer 5\n"
     ]
    }
   ],
   "source": [
    "print(\"mean answer length:\",mean_answer_length)\n",
    "print(\"smallest answer length:\", min_answer_length)\n",
    "print(\"largest answer length:\",max_answer_length)\n",
    "print(\"amont of debates with the smallest answer length:\",count_min_answer)\n",
    "print(\"amount of questions with no debattdag\",count_amount_no_debattdag)\n",
    "print(\"amount of questions with one answer\",one_answer_length)"
   ]
  },
  {
   "cell_type": "code",
   "execution_count": 8,
   "id": "3f0630b9",
   "metadata": {
    "scrolled": false
   },
   "outputs": [
    {
     "data": {
      "text/html": [
       "<div>\n",
       "<style scoped>\n",
       "    .dataframe tbody tr th:only-of-type {\n",
       "        vertical-align: middle;\n",
       "    }\n",
       "\n",
       "    .dataframe tbody tr th {\n",
       "        vertical-align: top;\n",
       "    }\n",
       "\n",
       "    .dataframe thead th {\n",
       "        text-align: right;\n",
       "    }\n",
       "</style>\n",
       "<table border=\"1\" class=\"dataframe\">\n",
       "  <thead>\n",
       "    <tr style=\"text-align: right;\">\n",
       "      <th></th>\n",
       "      <th>id_</th>\n",
       "      <th>question</th>\n",
       "      <th>question_date</th>\n",
       "      <th>answer</th>\n",
       "      <th>undertecknare_name</th>\n",
       "      <th>undertecknare_partibet</th>\n",
       "      <th>besvaradav_name</th>\n",
       "      <th>besvaradav_partibet</th>\n",
       "      <th>debattdag</th>\n",
       "      <th>ip_id</th>\n",
       "    </tr>\n",
       "  </thead>\n",
       "  <tbody>\n",
       "    <tr>\n",
       "      <th>210</th>\n",
       "      <td>h910372</td>\n",
       "      <td>av Carl-Oskar Bohlin (M)\\ntill Statsrådet Khas...</td>\n",
       "      <td>2022-02-24</td>\n",
       "      <td>[]</td>\n",
       "      <td>Carl-Oskar Bohlin</td>\n",
       "      <td>M</td>\n",
       "      <td>Statsrådet Khashayar Farmanbar</td>\n",
       "      <td>S</td>\n",
       "      <td>2022-03-15</td>\n",
       "      <td>2021/22:372</td>\n",
       "    </tr>\n",
       "    <tr>\n",
       "      <th>215</th>\n",
       "      <td>h910368</td>\n",
       "      <td>av Sofia Nilsson (C)\\ntill Socialminister Lena...</td>\n",
       "      <td>2022-02-22</td>\n",
       "      <td>[]</td>\n",
       "      <td>Sofia Nilsson</td>\n",
       "      <td>C</td>\n",
       "      <td>Socialminister Lena Hallengren</td>\n",
       "      <td>S</td>\n",
       "      <td>2022-03-04</td>\n",
       "      <td>2021/22:368</td>\n",
       "    </tr>\n",
       "    <tr>\n",
       "      <th>357</th>\n",
       "      <td>h91075</td>\n",
       "      <td>av Mikael Eskilandersson (SD)\\ntill Justitie- ...</td>\n",
       "      <td>2021-11-11</td>\n",
       "      <td>[]</td>\n",
       "      <td>Mikael Eskilandersson</td>\n",
       "      <td>SD</td>\n",
       "      <td>Statsrådet Märta Stenevi</td>\n",
       "      <td>MP</td>\n",
       "      <td>2021-11-09</td>\n",
       "      <td>2021/22:75</td>\n",
       "    </tr>\n",
       "    <tr>\n",
       "      <th>421</th>\n",
       "      <td>h910518</td>\n",
       "      <td>av Tobias Andersson (SD)\\ntill Kulturminister ...</td>\n",
       "      <td>2022-05-25</td>\n",
       "      <td>[]</td>\n",
       "      <td>Tobias Andersson</td>\n",
       "      <td>SD</td>\n",
       "      <td>Kulturminister Jeanette Gustafsdotter</td>\n",
       "      <td>S</td>\n",
       "      <td>2022-06-10</td>\n",
       "      <td>2021/22:518</td>\n",
       "    </tr>\n",
       "    <tr>\n",
       "      <th>479</th>\n",
       "      <td>h910116</td>\n",
       "      <td>av Lars Hjälmered (M)\\ntill Klimat- och miljöm...</td>\n",
       "      <td>2021-12-14</td>\n",
       "      <td>[]</td>\n",
       "      <td>Lars Hjälmered</td>\n",
       "      <td>M</td>\n",
       "      <td>Klimat- och miljöminister Annika Strandhäll</td>\n",
       "      <td>S</td>\n",
       "      <td>2021-12-10</td>\n",
       "      <td>2021/22:116</td>\n",
       "    </tr>\n",
       "  </tbody>\n",
       "</table>\n",
       "</div>"
      ],
      "text/plain": [
       "         id_                                           question question_date  \\\n",
       "210  h910372  av Carl-Oskar Bohlin (M)\\ntill Statsrådet Khas...    2022-02-24   \n",
       "215  h910368  av Sofia Nilsson (C)\\ntill Socialminister Lena...    2022-02-22   \n",
       "357   h91075  av Mikael Eskilandersson (SD)\\ntill Justitie- ...    2021-11-11   \n",
       "421  h910518  av Tobias Andersson (SD)\\ntill Kulturminister ...    2022-05-25   \n",
       "479  h910116  av Lars Hjälmered (M)\\ntill Klimat- och miljöm...    2021-12-14   \n",
       "\n",
       "    answer     undertecknare_name undertecknare_partibet  \\\n",
       "210     []      Carl-Oskar Bohlin                      M   \n",
       "215     []          Sofia Nilsson                      C   \n",
       "357     []  Mikael Eskilandersson                     SD   \n",
       "421     []       Tobias Andersson                     SD   \n",
       "479     []         Lars Hjälmered                      M   \n",
       "\n",
       "                                 besvaradav_name besvaradav_partibet  \\\n",
       "210               Statsrådet Khashayar Farmanbar                   S   \n",
       "215               Socialminister Lena Hallengren                   S   \n",
       "357                     Statsrådet Märta Stenevi                  MP   \n",
       "421        Kulturminister Jeanette Gustafsdotter                   S   \n",
       "479  Klimat- och miljöminister Annika Strandhäll                   S   \n",
       "\n",
       "      debattdag        ip_id  \n",
       "210  2022-03-15  2021/22:372  \n",
       "215  2022-03-04  2021/22:368  \n",
       "357  2021-11-09   2021/22:75  \n",
       "421  2022-06-10  2021/22:518  \n",
       "479  2021-12-10  2021/22:116  "
      ]
     },
     "execution_count": 8,
     "metadata": {},
     "output_type": "execute_result"
    }
   ],
   "source": [
    "df.loc[(df[\"answer\"].str.len() == 0) & (df[\"debattdag\"].str.len() != 0)].head(5)"
   ]
  },
  {
   "cell_type": "code",
   "execution_count": 15,
   "id": "96e295c3",
   "metadata": {},
   "outputs": [
    {
     "data": {
      "text/html": [
       "<div>\n",
       "<style scoped>\n",
       "    .dataframe tbody tr th:only-of-type {\n",
       "        vertical-align: middle;\n",
       "    }\n",
       "\n",
       "    .dataframe tbody tr th {\n",
       "        vertical-align: top;\n",
       "    }\n",
       "\n",
       "    .dataframe thead th {\n",
       "        text-align: right;\n",
       "    }\n",
       "</style>\n",
       "<table border=\"1\" class=\"dataframe\">\n",
       "  <thead>\n",
       "    <tr style=\"text-align: right;\">\n",
       "      <th></th>\n",
       "      <th>id_</th>\n",
       "      <th>question</th>\n",
       "      <th>question_date</th>\n",
       "      <th>answer</th>\n",
       "      <th>undertecknare_name</th>\n",
       "      <th>undertecknare_partibet</th>\n",
       "      <th>besvaradav_name</th>\n",
       "      <th>besvaradav_partibet</th>\n",
       "      <th>debattdag</th>\n",
       "      <th>ip_id</th>\n",
       "    </tr>\n",
       "  </thead>\n",
       "  <tbody>\n",
       "    <tr>\n",
       "      <th>0</th>\n",
       "      <td>h910261</td>\n",
       "      <td>av Jörgen Berglund (M)\\ntill Klimat- och miljö...</td>\n",
       "      <td>2022-01-12</td>\n",
       "      <td>[]</td>\n",
       "      <td>Jörgen Berglund</td>\n",
       "      <td>M</td>\n",
       "      <td>Klimat- och miljöminister Annika Strandhäll</td>\n",
       "      <td>S</td>\n",
       "      <td></td>\n",
       "      <td>2021/22:261</td>\n",
       "    </tr>\n",
       "    <tr>\n",
       "      <th>1</th>\n",
       "      <td>h910260</td>\n",
       "      <td>av Jens Holm (V)\\ntill Klimat- och miljöminist...</td>\n",
       "      <td>2022-01-12</td>\n",
       "      <td>[{'answer': 'Anf.  61  Statsrådet ANNA-CAREN S...</td>\n",
       "      <td>Jens Holm</td>\n",
       "      <td>V</td>\n",
       "      <td>Statsrådet Anna-Caren Sätherberg</td>\n",
       "      <td>S</td>\n",
       "      <td>2022-02-01</td>\n",
       "      <td>2021/22:260</td>\n",
       "    </tr>\n",
       "    <tr>\n",
       "      <th>2</th>\n",
       "      <td>h91026</td>\n",
       "      <td>av Thomas Morell (SD)\\ntill Finansminister Mag...</td>\n",
       "      <td>2021-09-30</td>\n",
       "      <td>[{'answer': 'Anf.  8  Finansminister MAGDALENA...</td>\n",
       "      <td>Thomas Morell</td>\n",
       "      <td>SD</td>\n",
       "      <td>Finansminister Magdalena Andersson</td>\n",
       "      <td>S</td>\n",
       "      <td>2021-10-22</td>\n",
       "      <td>2021/22:26</td>\n",
       "    </tr>\n",
       "    <tr>\n",
       "      <th>3</th>\n",
       "      <td>h910259</td>\n",
       "      <td>av Mikael Larsson (C)\\ntill Infrastrukturminis...</td>\n",
       "      <td>2022-01-12</td>\n",
       "      <td>[{'answer': 'Anf.  88  Infrastrukturminister T...</td>\n",
       "      <td>Mikael Larsson</td>\n",
       "      <td>C</td>\n",
       "      <td>Infrastrukturminister Tomas Eneroth</td>\n",
       "      <td>S</td>\n",
       "      <td>2022-01-25</td>\n",
       "      <td>2021/22:259</td>\n",
       "    </tr>\n",
       "    <tr>\n",
       "      <th>4</th>\n",
       "      <td>h910258</td>\n",
       "      <td>av Lars Beckman (M)\\ntill Näringsminister Karl...</td>\n",
       "      <td>2022-01-12</td>\n",
       "      <td>[]</td>\n",
       "      <td>Lars Beckman</td>\n",
       "      <td>M</td>\n",
       "      <td>Näringsminister Karl-Petter Thorwaldsson</td>\n",
       "      <td>S</td>\n",
       "      <td></td>\n",
       "      <td>2021/22:258</td>\n",
       "    </tr>\n",
       "  </tbody>\n",
       "</table>\n",
       "</div>"
      ],
      "text/plain": [
       "       id_                                           question question_date  \\\n",
       "0  h910261  av Jörgen Berglund (M)\\ntill Klimat- och miljö...    2022-01-12   \n",
       "1  h910260  av Jens Holm (V)\\ntill Klimat- och miljöminist...    2022-01-12   \n",
       "2   h91026  av Thomas Morell (SD)\\ntill Finansminister Mag...    2021-09-30   \n",
       "3  h910259  av Mikael Larsson (C)\\ntill Infrastrukturminis...    2022-01-12   \n",
       "4  h910258  av Lars Beckman (M)\\ntill Näringsminister Karl...    2022-01-12   \n",
       "\n",
       "                                              answer undertecknare_name  \\\n",
       "0                                                 []    Jörgen Berglund   \n",
       "1  [{'answer': 'Anf.  61  Statsrådet ANNA-CAREN S...          Jens Holm   \n",
       "2  [{'answer': 'Anf.  8  Finansminister MAGDALENA...      Thomas Morell   \n",
       "3  [{'answer': 'Anf.  88  Infrastrukturminister T...     Mikael Larsson   \n",
       "4                                                 []       Lars Beckman   \n",
       "\n",
       "  undertecknare_partibet                              besvaradav_name  \\\n",
       "0                      M  Klimat- och miljöminister Annika Strandhäll   \n",
       "1                      V             Statsrådet Anna-Caren Sätherberg   \n",
       "2                     SD           Finansminister Magdalena Andersson   \n",
       "3                      C          Infrastrukturminister Tomas Eneroth   \n",
       "4                      M     Näringsminister Karl-Petter Thorwaldsson   \n",
       "\n",
       "  besvaradav_partibet   debattdag        ip_id  \n",
       "0                   S              2021/22:261  \n",
       "1                   S  2022-02-01  2021/22:260  \n",
       "2                   S  2021-10-22   2021/22:26  \n",
       "3                   S  2022-01-25  2021/22:259  \n",
       "4                   S              2021/22:258  "
      ]
     },
     "execution_count": 15,
     "metadata": {},
     "output_type": "execute_result"
    }
   ],
   "source": [
    "df.head()"
   ]
  },
  {
   "cell_type": "code",
   "execution_count": 9,
   "id": "a6ff785a",
   "metadata": {},
   "outputs": [
    {
     "data": {
      "image/png": "[encoded data removed]",
      "text/plain": [
       "<Figure size 640x480 with 1 Axes>"
      ]
     },
     "metadata": {},
     "output_type": "display_data"
    }
   ],
   "source": [
    "import matplotlib.pyplot as plt\n",
    "import numpy as np\n",
    "plt.hist(df[\"answer\"].str.len(), bins=20)\n",
    "plt.title(\"Amount of answers in debate\")\n",
    "plt.show() "
   ]
  },
  {
   "cell_type": "code",
   "execution_count": 10,
   "id": "ada59506",
   "metadata": {},
   "outputs": [
    {
     "data": {
      "image/png": "[encoded data removed]",
      "text/plain": [
       "<Figure size 640x480 with 1 Axes>"
      ]
     },
     "metadata": {},
     "output_type": "display_data"
    }
   ],
   "source": [
    "import matplotlib.pyplot as plt\n",
    "import numpy as np\n",
    "plt.hist(df[\"debattdag\"].str.len())\n",
    "plt.title(\"Amount of questions missing a debate day\")\n",
    "plt.show() "
   ]
  },
  {
   "cell_type": "code",
   "execution_count": 11,
   "id": "5a1d0f5a",
   "metadata": {},
   "outputs": [
    {
     "data": {
      "text/plain": [
       "([<matplotlib.axis.XTick at 0x1ef426c9b50>,\n",
       "  <matplotlib.axis.XTick at 0x1ef426c9b20>,\n",
       "  <matplotlib.axis.XTick at 0x1ef426c9670>,\n",
       "  <matplotlib.axis.XTick at 0x1ef42701e50>,\n",
       "  <matplotlib.axis.XTick at 0x1ef42711b80>,\n",
       "  <matplotlib.axis.XTick at 0x1ef42716670>,\n",
       "  <matplotlib.axis.XTick at 0x1ef42711460>,\n",
       "  <matplotlib.axis.XTick at 0x1ef4271e3a0>,\n",
       "  <matplotlib.axis.XTick at 0x1ef4271ee50>],\n",
       " [Text(0, 0, '-'),\n",
       "  Text(1, 0, 'C'),\n",
       "  Text(2, 0, 'KD'),\n",
       "  Text(3, 0, 'L'),\n",
       "  Text(4, 0, 'M'),\n",
       "  Text(5, 0, 'MP'),\n",
       "  Text(6, 0, 'S'),\n",
       "  Text(7, 0, 'SD'),\n",
       "  Text(8, 0, 'V')])"
      ]
     },
     "execution_count": 11,
     "metadata": {},
     "output_type": "execute_result"
    },
    {
     "data": {
      "image/png": "[encoded data removed]",
      "text/plain": [
       "<Figure size 640x480 with 1 Axes>"
      ]
     },
     "metadata": {},
     "output_type": "display_data"
    }
   ],
   "source": [
    "import numpy as np\n",
    "a = df[\"undertecknare_partibet\"]\n",
    "labels, counts = np.unique(a,return_counts=True)\n",
    "import matplotlib.pyplot as plt \n",
    "ticks = range(len(counts))\n",
    "plt.title(\"Asked questions per party\")\n",
    "plt.bar(ticks,counts, align='center')\n",
    "plt.xticks(ticks, labels)"
   ]
  },
  {
   "cell_type": "code",
   "execution_count": 12,
   "id": "65d40d6f",
   "metadata": {},
   "outputs": [
    {
     "data": {
      "text/plain": [
       "([<matplotlib.axis.XTick at 0x1ef42754790>,\n",
       "  <matplotlib.axis.XTick at 0x1ef42754760>],\n",
       " [Text(0, 0, 'MP'), Text(1, 0, 'S')])"
      ]
     },
     "execution_count": 12,
     "metadata": {},
     "output_type": "execute_result"
    },
    {
     "data": {
      "image/png": "[encoded data removed]",
      "text/plain": [
       "<Figure size 640x480 with 1 Axes>"
      ]
     },
     "metadata": {},
     "output_type": "display_data"
    }
   ],
   "source": [
    "\n",
    "a = df[\"besvaradav_partibet\"]\n",
    "labels, counts = np.unique(a,return_counts=True)\n",
    "ticks = range(len(counts))\n",
    "plt.title(\"Questions recieved per party\")\n",
    "plt.bar(ticks,counts, align='center')\n",
    "plt.xticks(ticks, labels)"
   ]
  },
  {
   "cell_type": "code",
   "execution_count": 13,
   "id": "c850b8ee",
   "metadata": {
    "scrolled": true
   },
   "outputs": [],
   "source": [
    "\n",
    "a = df[\"answer\"]\n",
    "\n",
    "answered = {}\n",
    "\n",
    "for i in range(len(df)):\n",
    "    b = a.iloc[i]\n",
    "    if len(b) > 0:\n",
    "        for j in range(len(b)):\n",
    "            label = b[j][\"besvaradav_partibet\"]\n",
    "            if label == \"LDERSPRESIDENTE\":\n",
    "                print(b[j])\n",
    "            if label not in answered:\n",
    "                answered[label] = 1\n",
    "            else:\n",
    "                answered[label] += 1\n",
    "                \n"
   ]
  },
  {
   "cell_type": "code",
   "execution_count": 14,
   "id": "830bbe59",
   "metadata": {},
   "outputs": [
    {
     "data": {
      "text/plain": [
       "([<matplotlib.axis.XTick at 0x1ef42983250>,\n",
       "  <matplotlib.axis.XTick at 0x1ef42983070>,\n",
       "  <matplotlib.axis.XTick at 0x1ef42981af0>,\n",
       "  <matplotlib.axis.XTick at 0x1ef42845a60>,\n",
       "  <matplotlib.axis.XTick at 0x1ef4284e550>,\n",
       "  <matplotlib.axis.XTick at 0x1ef428340d0>,\n",
       "  <matplotlib.axis.XTick at 0x1ef42854550>,\n",
       "  <matplotlib.axis.XTick at 0x1ef42854dc0>,\n",
       "  <matplotlib.axis.XTick at 0x1ef42859af0>],\n",
       " [Text(0, 0, 'S'),\n",
       "  Text(1, 0, 'V'),\n",
       "  Text(2, 0, 'SD'),\n",
       "  Text(3, 0, 'C'),\n",
       "  Text(4, 0, 'KD'),\n",
       "  Text(5, 0, 'M'),\n",
       "  Text(6, 0, 'MP'),\n",
       "  Text(7, 0, 'L'),\n",
       "  Text(8, 0, '-')])"
      ]
     },
     "execution_count": 14,
     "metadata": {},
     "output_type": "execute_result"
    },
    {
     "data": {
      "image/png": "[encoded data removed]",
      "text/plain": [
       "<Figure size 640x480 with 1 Axes>"
      ]
     },
     "metadata": {},
     "output_type": "display_data"
    }
   ],
   "source": [
    "list_items = [t[1] for t in list(answered.items())]\n",
    "list_keys = list(answered.keys())\n",
    "ticks = range(len(answered))\n",
    "plt.title(\"Participation in debates per party\")\n",
    "plt.bar(ticks,list_items, align='center')\n",
    "plt.xticks(ticks, list_keys)"
   ]
  }
 ],
 "metadata": {
  "kernelspec": {
   "display_name": "Python 3 (ipykernel)",
   "language": "python",
   "name": "python3"
  },
  "language_info": {
   "codemirror_mode": {
    "name": "ipython",
    "version": 3
   },
   "file_extension": ".py",
   "mimetype": "text/x-python",
   "name": "python",
   "nbconvert_exporter": "python",
   "pygments_lexer": "ipython3",
   "version": "3.8.8"
  }
 },
 "nbformat": 4,
 "nbformat_minor": 5
}
