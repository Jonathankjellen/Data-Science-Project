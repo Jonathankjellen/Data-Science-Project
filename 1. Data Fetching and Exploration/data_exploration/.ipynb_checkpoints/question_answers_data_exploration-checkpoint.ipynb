{
 "cells": [
  {
   "cell_type": "markdown",
   "metadata": {},
   "source": [
    "## Data Exploration of Parlamentary Data"
   ]
  },
  {
   "cell_type": "code",
   "execution_count": 10,
   "metadata": {},
   "outputs": [],
   "source": [
    "# Written by Magnus Olander\n",
    "\n",
    "from collections import defaultdict\n",
    "from datetime import datetime\n",
    "import json\n",
    "import os\n",
    "\n",
    "# Get parlamentary data from data directory\n",
    "json_file_name = \"../../data/data_all/data_all_final.json\"\n",
    "\n",
    "# Open file\n",
    "with open(json_file_name, \"r\") as file:\n",
    "    database = json.load(file)"
   ]
  },
  {
   "cell_type": "markdown",
   "metadata": {},
   "source": [
    "#### How Many Questions/Answers Per Party"
   ]
  },
  {
   "cell_type": "code",
   "execution_count": 11,
   "metadata": {},
   "outputs": [],
   "source": [
    "def questions_per_party(database):\n",
    "    dict_ans = defaultdict(int)\n",
    "    \n",
    "    for entry in database:\n",
    "        asked_by_party = entry[\"undertecknare_partibet\"]\n",
    "\n",
    "        dict_ans[asked_by_party] += 1\n",
    "\n",
    "    # Print the counts for each key\n",
    "    print(\"\\nQuestions per party:\")\n",
    "    for key, count in dict_ans.items():\n",
    "        print(f\"{key} {count} times.\")\n",
    "        \n",
    "def answers_per_party(database):\n",
    "    dict_ans = defaultdict(int)\n",
    "    \n",
    "    for entry in database:\n",
    "        answe_by_party = entry[\"besvaradav_partibet\"]\n",
    "\n",
    "        if answe_by_party != \"\":\n",
    "            dict_ans[answe_by_party] += 1\n",
    "\n",
    "    # Print the counts for each key\n",
    "    print(\"\\nAnswers per party:\")\n",
    "    for key, count in dict_ans.items():\n",
    "        print(f\"{key} {count} times.\")\n",
    "\n"
   ]
  },
  {
   "cell_type": "code",
   "execution_count": 12,
   "metadata": {},
   "outputs": [
    {
     "name": "stdout",
     "output_type": "stream",
     "text": [
      "\n",
      "Questions per party:\n",
      "MP 579 times.\n",
      "S 4810 times.\n",
      "FP 748 times.\n",
      "V 1455 times.\n",
      "M 6726 times.\n",
      "KD 822 times.\n",
      "C 771 times.\n",
      "SD 2445 times.\n",
      "- 44 times.\n",
      "L 597 times.\n",
      "\n",
      "Answers per party:\n",
      "C 1396 times.\n",
      "M 4206 times.\n",
      "KD 922 times.\n",
      "FP 693 times.\n",
      "S 10092 times.\n",
      "MP 1647 times.\n"
     ]
    }
   ],
   "source": [
    "questions_per_party(database)\n",
    "answers_per_party(database)"
   ]
  },
  {
   "cell_type": "markdown",
   "metadata": {},
   "source": [
    "#### Which Party Answered/Questioned Which Party "
   ]
  },
  {
   "cell_type": "code",
   "execution_count": null,
   "metadata": {},
   "outputs": [],
   "source": [
    "def party_asked_which_party(database):\n",
    "    dict_ans = defaultdict(lambda: defaultdict(int))\n",
    "    \n",
    "    for entry in database:\n",
    "        asked_by_party = entry[\"undertecknare_partibet\"]\n",
    "        answe_by_party = entry[\"besvaradav_partibet\"]\n",
    "\n",
    "        dict_ans[asked_by_party][answe_by_party] += 1\n",
    "\n",
    "    # Print the counts for each key\n",
    "    for key, key_counts in dict_ans.items():\n",
    "        print(f\"\\n{key} questioned:\")\n",
    "        for value, count in key_counts.items():\n",
    "            print(f\"{value} {count} times.\")\n",
    "\n",
    "\n",
    "\n",
    "\n",
    "def party_answered_which_party(database):\n",
    "    dict_ans = defaultdict(lambda: defaultdict(int))\n",
    "    \n",
    "    for entry in database:\n",
    "        asked_by_party = entry[\"undertecknare_partibet\"]\n",
    "        answe_by_party = entry[\"besvaradav_partibet\"]\n",
    "\n",
    "        if answe_by_party != \"\":\n",
    "            dict_ans[answe_by_party][asked_by_party] += 1\n",
    "\n",
    "    # Print the counts for each key\n",
    "    for key, key_counts in dict_ans.items():\n",
    "        print(f\"\\n{key} answered:\")\n",
    "        for value, count in key_counts.items():\n",
    "            print(f\"{value} {count} times.\")\n",
    "\n"
   ]
  },
  {
   "cell_type": "code",
   "execution_count": null,
   "metadata": {},
   "outputs": [],
   "source": [
    "party_asked_which_party(database)\n",
    "party_answered_which_party(database)"
   ]
  },
  {
   "cell_type": "markdown",
   "metadata": {},
   "source": [
    "#### How many Questions per Month/Year"
   ]
  },
  {
   "cell_type": "code",
   "execution_count": null,
   "metadata": {},
   "outputs": [],
   "source": [
    "\n",
    "def questions_per_month(database, years):\n",
    "\n",
    "    # Init dicts to store the counts\n",
    "    total_counts = defaultdict(int)\n",
    "    monthly_counts = defaultdict(int)\n",
    "    yearly_counts = defaultdict(lambda: defaultdict(int))\n",
    "\n",
    "    # Iterate through database\n",
    "    for entry in database:\n",
    "\n",
    "        # Parse date to a datetime object\n",
    "        date_object = datetime.strptime(entry[\"question_date\"], \"%Y-%m-%d\")\n",
    "        \n",
    "        # Update total counts\n",
    "        total_counts[date_object.month] += 1\n",
    "        \n",
    "        # Update monthly counts\n",
    "        monthly_counts[date_object.strftime(\"%B\")] += 1\n",
    "        \n",
    "        # Update yearly counts\n",
    "        yearly_counts[date_object.year][date_object.strftime(\"%B\")] += 1\n",
    "\n",
    "    # Average for all months and years\n",
    "    total_months = 12*years\n",
    "    average_count = sum(total_counts.values()) / total_months\n",
    "\n",
    "    # Print all results\n",
    "    print(\"\\nAverage Questions Per Month\", average_count)\n",
    "\n",
    "    print(\"\\nAverage Questions For Each Month\")\n",
    "    for month, count in monthly_counts.items():\n",
    "        print(f\"{month}: {count/4}\")\n",
    "\n",
    "    print(\"\\nQuestions Per Month\")\n",
    "    for year, counts in yearly_counts.items():\n",
    "        print(f\"Year {year}:\")\n",
    "        for month, count in counts.items():\n",
    "            print(f\"    {month}: {count}\")"
   ]
  },
  {
   "cell_type": "code",
   "execution_count": null,
   "metadata": {},
   "outputs": [],
   "source": [
    "years = 4 #How many years back your data goes through\n",
    "\n",
    "questions_per_month(database, years)"
   ]
  }
 ],
 "metadata": {
  "kernelspec": {
   "display_name": "Python 3 (ipykernel)",
   "language": "python",
   "name": "python3"
  },
  "language_info": {
   "codemirror_mode": {
    "name": "ipython",
    "version": 3
   },
   "file_extension": ".py",
   "mimetype": "text/x-python",
   "name": "python",
   "nbconvert_exporter": "python",
   "pygments_lexer": "ipython3",
   "version": "3.9.7"
  }
 },
 "nbformat": 4,
 "nbformat_minor": 2
}
