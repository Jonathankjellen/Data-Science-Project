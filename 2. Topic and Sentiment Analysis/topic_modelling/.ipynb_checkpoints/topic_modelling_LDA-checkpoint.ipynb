{
 "cells": [
  {
   "cell_type": "markdown",
   "metadata": {
    "id": "mlMwmTcurcpQ"
   },
   "source": [
    "# Topic modelling - Latent Dirichlet Allocation (LDA)\n",
    "\n",
    "This is a file where I tried to implement LDA with different packages, it is applied on the data of questions and answers between 2018 to 2022. This was done to compare topic models LDA and BERTopic to decide which one to use. We later decided to use BERTopic and applied it on all data. The models were initially saved to the models folder but were not provided in the final version to save space and since we decided not to use LDA. \n",
    "\n",
    "Made by: Elsa Kidman\n"
   ]
  },
  {
   "cell_type": "markdown",
   "metadata": {},
   "source": [
    "## How to use\n",
    "\n",
    "The following packages are required:\n",
    "- nltk\n",
    "- gensim\n",
    "- sklearn"
   ]
  },
  {
   "cell_type": "code",
   "execution_count": 1,
   "metadata": {
    "id": "Ib2lmvQzrX3C"
   },
   "outputs": [],
   "source": [
    "import json\n",
    "f = open('../../data/data 2018-09-09 2022-09-11/data_FINAL_2018-09-09_to_2022-09-11.json')\n",
    "data_init = json.load(f)"
   ]
  },
  {
   "cell_type": "markdown",
   "metadata": {
    "id": "OjuiM94ubDdH"
   },
   "source": [
    "### Preprocess the text\n",
    "\n",
    "For LDA it's imoportant to clean the text before applying the model"
   ]
  },
  {
   "cell_type": "code",
   "execution_count": 6,
   "metadata": {
    "colab": {
     "base_uri": "https://localhost:8080/"
    },
    "executionInfo": {
     "elapsed": 3168,
     "status": "ok",
     "timestamp": 1702630452492,
     "user": {
      "displayName": "Elsa Kidman",
      "userId": "09242152687523974658"
     },
     "user_tz": -60
    },
    "id": "AteaB26VrijV",
    "outputId": "59249d4d-7020-4ffc-d39a-cd7c0ffe5e77"
   },
   "outputs": [
    {
     "name": "stderr",
     "output_type": "stream",
     "text": [
      "[nltk_data] Downloading package stopwords to /home/elsa/nltk_data...\n",
      "[nltk_data]   Unzipping corpora/stopwords.zip.\n",
      "[nltk_data] Downloading package punkt to /home/elsa/nltk_data...\n",
      "[nltk_data]   Unzipping tokenizers/punkt.zip.\n"
     ]
    }
   ],
   "source": [
    "import re\n",
    "import string\n",
    "import nltk\n",
    "from nltk.corpus import stopwords\n",
    "from nltk.tokenize import word_tokenize\n",
    "from nltk.stem import SnowballStemmer\n",
    "\n",
    "# Download NLTK stopwords data\n",
    "nltk.download('stopwords')\n",
    "nltk.download('punkt')\n",
    "\n",
    "# A function to remove to/from formalia from each question.\n",
    "def remove_names(question):\n",
    "\n",
    "    ## Remove the first two lines\n",
    "    lines = question.split('\\n')[2:]\n",
    "    result = '\\n'.join(lines)\n",
    "\n",
    "    return result\n",
    "\n",
    "# Remove Swedish Stop Words\n",
    "def remove_stopwords(text):\n",
    "\n",
    "    stopword_custom = stopwords.words('swedish')\n",
    "    stop_list = [\"ska\", \"ske\", \"det\", \"vore\", \"samt\"] # \"se\", \"ge\"\n",
    "    stopword_custom.extend(stop_list)\n",
    "    stop_words = set(stopword_custom)\n",
    "    result = [word for word in text if word not in stop_words]\n",
    "    return result\n",
    "\n",
    "# Apply stemming for swedish\n",
    "def stemming(text):\n",
    "\n",
    "    stemmer = SnowballStemmer(\"swedish\")\n",
    "    resuling_text = [stemmer.stem(plural) for plural in text]\n",
    "    return resuling_text\n",
    "\n",
    "# Filters out all special characters, punktation etc. by using regular expressions. Only letters and numers left\n",
    "def filter_bad_characters(tokens):\n",
    "\n",
    "    # Regular expression can be used only get tokens containing letters and  numbers. Unicode is needed for å,ä,ö\n",
    "    cleaned_tokens = [token for token in tokens if re.match(r'^[\\wåäö]+$', token, flags=re.UNICODE)]\n",
    "    return cleaned_tokens\n",
    "\n",
    "def preprocess(text):\n",
    "\n",
    "    # Tokenize the text\n",
    "    words = word_tokenize(text, language='swedish')\n",
    "    # Lowercase\n",
    "    lowercase_words = [word.lower() for word in words]\n",
    "\n",
    "    # Remove stop words\n",
    "    stop_words_removed = remove_stopwords(lowercase_words)\n",
    "\n",
    "    # Remove special characters and punktation\n",
    "    cleaned_tokens = filter_bad_characters(stop_words_removed)\n",
    "\n",
    "    #Apply stemming\n",
    "    filtered_words = stemming(cleaned_tokens)\n",
    "\n",
    "    # contains the preprocessed tokens.\n",
    "    return filtered_words"
   ]
  },
  {
   "cell_type": "code",
   "execution_count": 8,
   "metadata": {
    "id": "mGn0CgdOruEm"
   },
   "outputs": [],
   "source": [
    "# Gather data to apply the LDA models on\n",
    "questions = []\n",
    "questions_text = []\n",
    "questions_tokenized = []\n",
    "\n",
    "answers = []\n",
    "answers_preproc = []\n",
    "\n",
    "for entry in data_init:\n",
    "    question = entry['question']\n",
    "    answer = entry['answer']\n",
    "    \n",
    "    questions.append(question)\n",
    "    \n",
    "    preproc_question = preprocess(question)\n",
    "    questions_tokenized.append(preproc_question)\n",
    "    \n",
    "    preproc_question = ' '.join(preproc_question)\n",
    "    questions_text.append(preproc_question)\n",
    "\n",
    "    answers.append(answer)\n",
    "    \n",
    "    preproc_answer = preprocess(answer)\n",
    "    answers_preproc.append(preproc_answer)\n",
    "    "
   ]
  },
  {
   "cell_type": "markdown",
   "metadata": {
    "id": "3jNwTU7RuYNc"
   },
   "source": [
    "## Implementation\n",
    "Try to implement LDA with different packages: Gensim and Sklearn. "
   ]
  },
  {
   "cell_type": "markdown",
   "metadata": {
    "id": "Nal7MDmEuZ2C"
   },
   "source": [
    "### Gensim\n",
    "[1] https://radimrehurek.com/gensim/intro.html"
   ]
  },
  {
   "cell_type": "code",
   "execution_count": 9,
   "metadata": {
    "colab": {
     "base_uri": "https://localhost:8080/"
    },
    "executionInfo": {
     "elapsed": 23005,
     "status": "ok",
     "timestamp": 1702643105406,
     "user": {
      "displayName": "Elsa Kidman",
      "userId": "09242152687523974658"
     },
     "user_tz": -60
    },
    "id": "xqZmopRExzS_",
    "outputId": "e9cc4214-d33d-4534-8c73-0b7b6f546a9b"
   },
   "outputs": [],
   "source": [
    "from gensim.corpora import Dictionary\n",
    "from gensim.models import LdaModel\n",
    "\n",
    "## We start on the data with the questions, which have been preprocessed.\n",
    "# Create a dictionary representation from our questions (docs).\n",
    "dictionary = Dictionary(questions_tokenized)\n",
    "\n",
    "corpus = [dictionary.doc2bow(doc) for doc in questions_tokenized]\n",
    "\n",
    "# Since LDA don't decide number of topics for us we need to decide how many topics we want.\n",
    "num_topics = 50\n",
    "\n",
    "# Index to word dictionary\n",
    "tmp = dictionary[0]\n",
    "id2word = dictionary.id2token\n",
    "\n",
    "\n",
    "lda_model = LdaModel(corpus=corpus, id2word=id2word, num_topics=num_topics, alpha='auto', eval_every=5)"
   ]
  },
  {
   "cell_type": "code",
   "execution_count": 15,
   "metadata": {
    "id": "vGiLzTZE-Esl"
   },
   "outputs": [],
   "source": [
    "from gensim.test.utils import datapath\n",
    "\n",
    "# How to save the model.  NOTE: this model is not included in the models folder to save space.\n",
    "# path = datapath(\"models/gensim_LDA\")\n",
    "lda_model.save(\"models/gensim_LDA\")\n",
    "\n",
    "# How toload a pretrained model.\n",
    "# lda_model = LdaModel.load(path)"
   ]
  },
  {
   "cell_type": "code",
   "execution_count": 16,
   "metadata": {
    "colab": {
     "base_uri": "https://localhost:8080/"
    },
    "executionInfo": {
     "elapsed": 22,
     "status": "ok",
     "timestamp": 1702643105407,
     "user": {
      "displayName": "Elsa Kidman",
      "userId": "09242152687523974658"
     },
     "user_tz": -60
    },
    "id": "q095-C2Y3RlO",
    "outputId": "dfdc83c9-b5b3-433e-af2d-0e0152c88227"
   },
   "outputs": [
    {
     "name": "stdout",
     "output_type": "stream",
     "text": [
      "50\n",
      "Topic ID: 0, Words: ['elev', 'utbildningsminist', 'ekström', 'ann', 'lär', 'skolan', 'skol', 'utbildning', 'skolverket', 'skollag']\n",
      "Topic ID: 1, Words: ['riksrevision', 'regering', 'arland', 'fråg', 'beskattning', 'granskningsrapport', 'isolering', 'diesel', 'finansminist', 'magdalen']\n",
      "Topic ID: 2, Words: ['företag', 'sver', 'svensk', 'statsrådet', 'fråg', 's', 'näringsminist', 'regering', 'vill', 'baylan']\n",
      "Topic ID: 3, Words: ['postnord', 'rätt', 'who', 'länd', 's', 'utrikesminist', 'barnkonvention', 'egypt', 'otillåtn', 'skarv']\n",
      "Topic ID: 4, Words: ['regering', 'fråg', 'sver', 'statsrådet', 'svensk', 'mynd', 's', 'komm', 'statsminist', 'säkerhetsklass']\n",
      "Topic ID: 5, Words: ['barn', 'ung', 'barnet', 'boend', 'skydd', 'rätt', 'föräldr', 'vuxn', 'familj', 'hallengr']\n",
      "Topic ID: 6, Words: ['handläggningstid', 'lantmäteriet', 'skyddsjak', 'skadegör', 'jäg', 'pendl', 'statsrådet', 'fastighetsbildning', 'säl', 'licensjak']\n",
      "Topic ID: 7, Words: ['statsrådet', 'fråg', 's', 'vill', 'student', 'ernkran', 'matild', 'anledning', 'sver', 'mynd']\n",
      "Topic ID: 8, Words: ['våldtäk', 'anmäld', 'sexualbrot', 'procent', 'barn', 'målgrupp', 'person', 'ordningslag', 'islamic', 'eriksson']\n",
      "Topic ID: 9, Words: ['len', 'hallengr', 'socialminist', 'psykisk', 'fråg', 's', 'vård', 'äldr', 'anledning', 'regering']\n",
      "Topic ID: 10, Words: ['johansson', 'morgan', 'migrationsminist', 'fråg', 's', 'sver', 'vill', 'person', 'minist', 'år']\n",
      "Topic ID: 11, Words: ['sver', 'fråg', 'regering', 'stämpelskat', 's', 'svensk', 'vill', 'finansminist', 'statsrådet', 'anledning']\n",
      "Topic ID: 12, Words: ['stat', 'fartyg', 'sjöfart', 'regering', 'vårdföretag', 'fråg', 'eneroth', 'tom', 'kommun', 'svensk']\n",
      "Topic ID: 13, Words: ['sver', 'svensk', 'regering', 'fråg', 's', 'vill', 'komm', 'anledning', 'år', 'ann']\n",
      "Topic ID: 14, Words: ['sver', 'statsrådet', 'vill', 'fråg', 's', 'stor', 'stat', 'komm', 'regering', 'anledning']\n",
      "Topic ID: 15, Words: ['kalm', 'investeringsstöd', 'flygplats', 'fråg', 'socialförvaltning', 'regering', 'regional', 'åkermark', 'vill', 'öland']\n",
      "Topic ID: 16, Words: ['kärnkraft', 'fond', 'vattenkraft', 'bestånd', 'statsrådet', 'hållbar', 'västerhavet', 'sver', 'svensk', 'kustnär']\n",
      "Topic ID: 17, Words: ['ylv', 'regering', 's', 'fråg', 'uppsal', 'sver', 'socialminist', 'vill', 'åtgärd', 'grönvall']\n",
      "Topic ID: 18, Words: ['stöld', 'energiskat', 'mom', 'tullverket', 'stockholmsområdet', 'assistansersättning', 'moms', 'läk', 'statsrådet', 'vill']\n",
      "Topic ID: 19, Words: ['tom', 'eneroth', 'vill', 'infrastrukturminist', 's', 'nordisk', 'fråg', 'sver', 'komm', 'väg']\n",
      "Topic ID: 20, Words: ['statsrådet', 'eneroth', 'tom', 'regering', 'fråg', 'vill', 's', 'infrastrukturminist', 'sver', 'anledning']\n",
      "Topic ID: 21, Words: ['statsrådet', 'polis', 'mikael', 'damberg', 'sver', 'regering', 'fråg', 's', 'vill', 'fler']\n",
      "Topic ID: 22, Words: ['sver', 'mynd', 'fråg', 'statsrådet', 'komm', 's', 'anledning', 'vill', 'stor', 'transportstyr']\n",
      "Topic ID: 23, Words: ['sver', 'socialminist', 'fråg', 'hallengr', 's', 'len', 'vill', 'person', 'minist', 'regering']\n",
      "Topic ID: 24, Words: ['fråg', 'svensk', 'statsrådet', 'kött', 's', 'åtgärd', 'sver', 'jenni', 'livsmedel', 'vill']\n",
      "Topic ID: 25, Words: ['lövin', 'isabell', 'klimatminist', 'sver', 'regering', 'eu', 'fråg', 'mp', 'vill', 'anledning']\n",
      "Topic ID: 26, Words: ['morgan', 'johansson', 'migrationsminist', 'kriminalvård', 'dömd', 'förv', 'färdskriv', 'utvisning', 'migrationsverket', 'straff']\n",
      "Topic ID: 27, Words: ['judisk', 'usa', 'zon', 'storm', 'rakel', 'regering', 'straffansv', 'president', 'trump', 'nordkore']\n",
      "Topic ID: 28, Words: ['person', 'barn', 'johansson', 'fråg', 'migrationsminist', 'regering', 'minist', 'vill', 'dag', 'morgan']\n",
      "Topic ID: 29, Words: ['statsrådet', 'fråg', 'eriksson', 'ordningsvak', 'vill', 'regering', 's', 'pet', 'skjutban', 'anledning']\n",
      "Topic ID: 30, Words: ['sver', 'regering', 'statsrådet', 'organisation', 'bistånd', 'fråg', 'svensk', 's', 'korruption', 'biståndet']\n",
      "Topic ID: 31, Words: ['the', 'utrikesminist', 'ryssland', 'rätt', 'iran', 'and', 'to', 'irak', 'ann', 'of']\n",
      "Topic ID: 32, Words: ['s', 'pet', 'margot', 'wallström', 'försvarsminist', 'turkiet', 'utrikesminist', 'fråg', 'regering', 'hultqvist']\n",
      "Topic ID: 33, Words: ['sjukpenning', 'rättssystemet', 'flickan', 'laddhybrid', 'miljöarbetet', 'miljöbil', 'bonus', 'miljökvalitetsmål', 'sjukskrivn', 'undkomm']\n",
      "Topic ID: 34, Words: ['utrikesminist', 'ann', 'rätt', 's', 'iran', 'lind', 'fråg', 'protest', 'vill', 'ryssland']\n",
      "Topic ID: 35, Words: ['fastighetsskat', 'app', 'statsbidrag', 'serverhall', 'kines', 'gustav', 'syst', 'vapendirektiv', 's', 'verifier']\n",
      "Topic ID: 36, Words: ['ygeman', 'ander', 'statsrådet', 's', 'sver', 'fråg', 'vill', 'anledning', 'komm', 'landet']\n",
      "Topic ID: 37, Words: ['regering', 'fråg', 'sver', 's', 'vill', 'anledning', 'margot', 'wallström', 'finn', 'statsrådet']\n",
      "Topic ID: 38, Words: ['regering', 'fråg', 'svensk', 's', 'sver', 'ann', 'utrikesminist', 'vill', 'statsrådet', 'anledning']\n",
      "Topic ID: 39, Words: ['manipuler', 'åkeri', 'osund', 'placering', 'flick', 'färj', 'utfört', 'lots', 'nederländsk', 'dag']\n",
      "Topic ID: 40, Words: ['statsrådet', 'svensk', 'shekarabi', 'ardalan', 'spel', 'sver', 'fråg', 'regering', 'vill', 's']\n",
      "Topic ID: 41, Words: ['utrikesminist', 'ann', 'lind', 'kin', 'regering', 'fråg', 's', 'sver', 'svensk', 'anledning']\n",
      "Topic ID: 42, Words: ['ernkran', 'matild', 'officer', 'lärosät', 'doktorand', 'cykling', 'sver', 'vidareutveckl', 'universitetskanslersämbetet', 'tjänstgör']\n",
      "Topic ID: 43, Words: ['hedersrelater', 'margot', 'sas', 'wallström', 'colombi', 'förtryck', 'barn', 'regering', 'aspling', 'ludv']\n",
      "Topic ID: 44, Words: ['utbildning', 'utbildningsminist', 'ekström', 'ann', 'regering', 'gymnasieskolan', 's', 'fusk', 'åtgärd', 'krav']\n",
      "Topic ID: 45, Words: ['statsrådet', 'försäkringskassan', 'person', 'funktionsnedsättning', 'fråg', 'enl', 'behov', 'socialförsäkring', 'komm', 'vill']\n",
      "Topic ID: 46, Words: ['huawei', 'förvaltningsrät', 'fastslog', 'huaweis', 'inreseförbudet', 'mor', 'sver', 'indikator', 'zte', 'svensk']\n",
      "Topic ID: 47, Words: ['allmännytt', 'lotteri', 'insamling', 'arbetsgrupp', 'sekretesslag', 'dropp', 'idrottsrör', 'fryst', 'spelmarknad', 'gripn']\n",
      "Topic ID: 48, Words: ['regering', 'turkiet', 'sver', 's', 'rätt', 'turkisk', 'svensk', 'fråg', 'vill', 'fäng']\n",
      "Topic ID: 49, Words: ['regering', 'fråg', 'vill', 's', 'riksdag', 'komm', 'fler', 'anledning', 'år', 'beslut']\n"
     ]
    }
   ],
   "source": [
    "# A function to get the topics of the model. Useful for displaying the topics.\n",
    "def get_topics(model, n_topics):\n",
    "  topics = {}\n",
    "  for i, topic in model.show_topics(formatted=False, num_topics=n_topics):\n",
    "    topic =  [x[0] for x in topic]\n",
    "    topics[i] = topic\n",
    "  return topics\n",
    "\n",
    "# Print all topics found by LDA\n",
    "topics =  get_topics(lda_model, num_topics)\n",
    "print(len(topics))\n",
    "for i, topic in topics.items():\n",
    "  print(f\"Topic ID: {i}, Words: {topic}\")"
   ]
  },
  {
   "cell_type": "code",
   "execution_count": 17,
   "metadata": {
    "colab": {
     "base_uri": "https://localhost:8080/"
    },
    "executionInfo": {
     "elapsed": 20,
     "status": "ok",
     "timestamp": 1702643105407,
     "user": {
      "displayName": "Elsa Kidman",
      "userId": "09242152687523974658"
     },
     "user_tz": -60
    },
    "id": "cgiA2iA9zRkT",
    "outputId": "34b7784c-6f4e-41b0-82a1-2eebbfd80475"
   },
   "outputs": [
    {
     "data": {
      "text/plain": [
       "(11,\n",
       " ['sver',\n",
       "  'fråg',\n",
       "  'regering',\n",
       "  'stämpelskat',\n",
       "  's',\n",
       "  'svensk',\n",
       "  'vill',\n",
       "  'finansminist',\n",
       "  'statsrådet',\n",
       "  'anledning'])"
      ]
     },
     "execution_count": 17,
     "metadata": {},
     "output_type": "execute_result"
    }
   ],
   "source": [
    "# How to get the most probable topic for a entry document\n",
    "def get_top_topic_document(model, bow_doc, topics):\n",
    "  doc_topics = lda_model.get_document_topics(bow_doc)\n",
    "  max_topic = max(doc_topics, key=lambda x: x[1])\n",
    "  return max_topic[0], topics[max_topic[0]]\n",
    "\n",
    "# This gets the most likely topic for question at index 100\n",
    "get_top_topic_document(lda_model, corpus[100], topics)"
   ]
  },
  {
   "cell_type": "code",
   "execution_count": 19,
   "metadata": {
    "id": "OtZ4Upx9-vWJ"
   },
   "outputs": [
    {
     "name": "stdout",
     "output_type": "stream",
     "text": [
      "C_v coherence score: 0.5372385673459167\n",
      "U_mass coherence score: -4.347784362688686\n"
     ]
    }
   ],
   "source": [
    "from gensim.models.coherencemodel import CoherenceModel\n",
    "\n",
    "\n",
    "# To evaluate the model we can use different measures of coherence like c_v and U mass\n",
    "texts = [[dictionary[word_id] for word_id, freq in doc] for doc in corpus]\n",
    "c_v = CoherenceModel(model=lda_model, texts=texts, corpus=corpus, dictionary=dictionary, coherence='c_v')\n",
    "coherence_c_v = c_v.get_coherence()\n",
    "u_mass = CoherenceModel(model=lda_model, corpus=corpus, coherence='u_mass')\n",
    "coherence_u_mass = u_mass.get_coherence()\n",
    "\n",
    "print(f\"C_v coherence score: {coherence_c_v}\")\n",
    "print(f\"U_mass coherence score: {coherence_u_mass}\")"
   ]
  },
  {
   "cell_type": "markdown",
   "metadata": {
    "id": "Q6hOGgaPx1um"
   },
   "source": [
    "### Sklearn LDA\n",
    "\n",
    "[2] https://scikit-learn.org/stable/modules/generated/sklearn.decomposition.LatentDirichletAllocation.html"
   ]
  },
  {
   "cell_type": "code",
   "execution_count": 21,
   "metadata": {
    "id": "5w3z_3MbtGMf"
   },
   "outputs": [],
   "source": [
    "#import matplotlib.pyplot as plt\n",
    "from sklearn.decomposition import LatentDirichletAllocation\n",
    "from sklearn.feature_extraction.text import CountVectorizer, TfidfVectorizer\n",
    "\n",
    "top_words = 10\n",
    "# We need to decide to nr of topics in advance. This can later be optimised with gridsearch.\n",
    "nr_topics = 50\n",
    "\n",
    "tf_vectorizer = CountVectorizer()#(max_df=0.95, min_df=2, max_features=top_words))\n",
    "tf = tf_vectorizer.fit_transform(questions_text)\n",
    "\n",
    "lda_model_2 = LatentDirichletAllocation(n_components=nr_topics)\n",
    "doc_topic = lda_model_2.fit_transform(tf)\n",
    "#doc_topic = lda_model_2.transform(tf)\n",
    "\n",
    "tf_feature_names = tf_vectorizer.get_feature_names_out()"
   ]
  },
  {
   "cell_type": "code",
   "execution_count": 22,
   "metadata": {
    "colab": {
     "base_uri": "https://localhost:8080/"
    },
    "executionInfo": {
     "elapsed": 397,
     "status": "ok",
     "timestamp": 1702644286145,
     "user": {
      "displayName": "Elsa Kidman",
      "userId": "09242152687523974658"
     },
     "user_tz": -60
    },
    "id": "W0k4YEGZHmiK",
    "outputId": "bdc23bf0-872d-40a3-8247-5706472c6b54"
   },
   "outputs": [
    {
     "name": "stdout",
     "output_type": "stream",
     "text": [
      "50\n",
      "Topic ID: 0, Words: ['handläggningstid', 'procent', 'per', '000', 'år', 'veck', '2020', 'bolund', 'kommun', '2019']\n",
      "Topic ID: 1, Words: ['johansson', 'morgan', 'migrationsminist', 'minist', 'person', 'fråg', 'brott', 'sver', 'polis', 'vill']\n",
      "Topic ID: 2, Words: ['kron', 'sver', 'regering', 'miljard', 'kostnad', 'år', 'kommun', 'vill', 'fråg', 'stor']\n",
      "Topic ID: 3, Words: ['utrikesminist', 'ann', 'kin', 'lind', 'rätt', 'landet', 'regim', 'mänsk', 'iran', 'kinesisk']\n",
      "Topic ID: 4, Words: ['kvinn', 'statsrådet', 'våld', 'män', 'vill', 'kommun', 'fråg', 'sver', 'anledning', 'fler']\n",
      "Topic ID: 5, Words: ['lin', 'statsrådet', 'högskol', 'öresund', 'anledning', 'vill', 'kihlblom', 'utbildning', 'fråg', 'axelsson']\n",
      "Topic ID: 6, Words: ['statsrådet', 'mynd', 'mikael', 'gävleborg', 'damberg', 'msb', 'beredskap', 'fråg', 'kommun', 'åtgärd']\n",
      "Topic ID: 7, Words: ['sexualbrot', 'år', 'barn', 'procent', 'anmäld', 'våldtäk', 'person', 'brott', 'fler', 'finn']\n",
      "Topic ID: 8, Words: ['statsrådet', 'nilsson', 'jenni', 'regering', 'fråg', 'beslut', 'vill', 'stor', 'sver', 'svensk']\n",
      "Topic ID: 9, Words: ['flygplats', 'flygplat', 'arland', 'regering', 'regional', 'flyget', 'fråg', 'swedavi', 'stöd', 'stat']\n",
      "Topic ID: 10, Words: ['person', 'statsrådet', 'fråg', 'jakt', 'länsstyr', 'naturvårdsverket', 'anledning', 'covidtest', 'föräldraansvaret', 'vill']\n",
      "Topic ID: 11, Words: ['sver', 'svensk', 'regering', 'fråg', 'statsrådet', 'vill', 'varg', 'komm', 'unrw', 'också']\n",
      "Topic ID: 12, Words: ['damberg', 'mikael', 'statsrådet', 'polis', 'fråg', 'vill', 'polismynd', 'fler', 'anledning', 'person']\n",
      "Topic ID: 13, Words: ['kommun', 'person', 'barn', 'len', 'socialminist', 'hallengr', 'ung', 'finn', 'äldr', 'fråg']\n",
      "Topic ID: 14, Words: ['sver', 'svensk', 'även', 'islamic', 'fråg', 'regering', 'statsrådet', 'vill', 'länd', 'avs']\n",
      "Topic ID: 15, Words: ['sver', 'svensk', 'regering', 'fråg', 'andr', 'bakgrund', 'markus', 'wiechel', 'sd', 'minist']\n",
      "Topic ID: 16, Words: ['näringsminist', 'baylan', 'ibrahim', 'stat', 'sver', 'fråg', 'minist', 'svensk', 'bolaget', 'vill']\n",
      "Topic ID: 17, Words: ['arbetsmarknadsminist', 'eva', 'nordmark', 'arbetslös', 'arbetsförmedling', 'arbet', 'person', 'sver', 'minist', 'arbetsmarknad']\n",
      "Topic ID: 18, Words: ['fråg', 'finn', 'fn', 'anledning', 'annik', 'strandhäll', 'miljöminist', 'sver', 'vill', 'ann']\n",
      "Topic ID: 19, Words: ['statsrådet', 'sver', 'regering', 'fråg', 'nordisk', 'ann', 'anledning', 'vill', 'länd', 'också']\n",
      "Topic ID: 20, Words: ['ander', 'ygeman', 'statsrådet', 'sver', 'svensk', 'regering', 'komm', 'fråg', 'vill', 'anledning']\n",
      "Topic ID: 21, Words: ['utrikesminist', 'taiwan', 'ann', 'regering', 'lind', 'fråg', 'turkiet', 'kristn', 'kvinn', 'sver']\n",
      "Topic ID: 22, Words: ['utrikesminist', 'lind', 'ann', 'ryssland', 'rysk', 'sver', 'svensk', 'eu', 'ambassad', 'pol']\n",
      "Topic ID: 23, Words: ['statsrådet', 'åtgärd', 'fråg', 'hot', 'vill', 'fler', 'anledning', 'vidt', 'utsat', 'arbet']\n",
      "Topic ID: 24, Words: ['statsrådet', 'sver', 'fråg', 'migrationsverket', 'vill', 'person', 'regering', 'anledning', 'åtgärd', 'svensk']\n",
      "Topic ID: 25, Words: ['fusk', 'folkbildningsrådet', 'finn', 'bidrag', 'studieförbund', 'utbetalning', 'år', 'stat', 'felakt', 'ann']\n",
      "Topic ID: 26, Words: ['statsrådet', 'ernkran', 'matild', 'universitet', 'forsk', 'student', 'fråg', 'vill', 'forskning', 'lärosät']\n",
      "Topic ID: 27, Words: ['klimatminist', 'lövin', 'isabell', 'mp', 'komm', 'regering', 'fråg', 'minist', 'vill', 'sver']\n",
      "Topic ID: 28, Words: ['svensk', 'fråg', 'vill', 'regering', 'gör', 'tid', 'åtgärd', 'mynd', 'permanent', 'statsrådet']\n",
      "Topic ID: 29, Words: ['socialminist', 'len', 'hallengr', 'sver', 'regering', 'fråg', 'folkhälsomynd', 'region', 'minist', 'vill']\n",
      "Topic ID: 30, Words: ['statsrådet', 'sver', 'fråg', 'vill', 'komm', 'säker', 'fler', 'finn', 'regering', 'åtgärd']\n",
      "Topic ID: 31, Words: ['shekarabi', 'ardalan', 'statsrådet', 'försäkringskassan', 'ersättning', 'pension', 'arbet', 'sjukpenning', 'socialförsäkring', 'person']\n",
      "Topic ID: 32, Words: ['regering', 'fråg', 'anledning', 'mynd', 'insats', 'vill', 'möj', 'sver', 'tid', 'stärk']\n",
      "Topic ID: 33, Words: ['statsrådet', 'sver', 'fråg', 'komm', 'regering', 'vill', 'nya', 'finn', 'per', 'stor']\n",
      "Topic ID: 34, Words: ['barn', 'barnet', 'föräldr', 'skydd', 'fråg', 'rätt', 'vill', 'ung', 'utsat', 'mång']\n",
      "Topic ID: 35, Words: ['företag', 'finansminist', 'andersson', 'magdalen', 'regering', 'mång', 'sver', 'fråg', 'svensk', 'vill']\n",
      "Topic ID: 36, Words: ['ukrain', 'utrikesminist', 'ann', 'lind', 'ryssland', 'turkiet', 'minist', 'konflik', 'azerbajdzjan', 'fråg']\n",
      "Topic ID: 37, Words: ['elev', 'utbildningsminist', 'ekström', 'ann', 'lär', 'skol', 'skolan', 'utbildning', 'svensk', 'undervisning']\n",
      "Topic ID: 38, Words: ['vård', 'socialminist', 'patient', 'hallengr', 'behandling', 'len', 'sjukvård', 'sjukdom', 'finn', 'läk']\n",
      "Topic ID: 39, Words: ['kulturminist', 'gustafsdot', 'jeanet', 'rom', 'fråg', 'också', 'romsk', 'vill', 'möj', 'biträd']\n",
      "Topic ID: 40, Words: ['sver', 'svensk', 'eu', 'statsrådet', 'vill', 'fråg', 'länd', 'också', 'fler', 'produk']\n",
      "Topic ID: 41, Words: ['riksrevision', 'statsrådet', 'regering', 'fråg', 'vill', 'anledning', 'brist', 'granskning', 'dag', 'även']\n",
      "Topic ID: 42, Words: ['svensk', 'fråg', 'finn', 'också', 'stat', 'regering', 'år', 'vill', 'statsrådet', 'del']\n",
      "Topic ID: 43, Words: ['eneroth', 'tom', 'infrastrukturminist', 'väg', 'trafikverket', 'minist', 'fråg', 'vill', 'anledning', 'komm']\n",
      "Topic ID: 44, Words: ['sver', 'rätt', 'svensk', 'regering', 'komm', 'andr', 'vill', 'anledning', 'mång', 'fråg']\n",
      "Topic ID: 45, Words: ['pet', 'försvarsminist', 'försvarsmak', 'hultqvist', 'militär', 'minist', 'försvaret', 'fråg', 'bahai', 'anledning']\n",
      "Topic ID: 46, Words: ['djur', 'statsrådet', 'vill', 'lund', 'marlén', 'kopparklint', 'svensk', 'komm', 'sver', 'fråg']\n",
      "Topic ID: 47, Words: ['lind', 'israel', 'amand', 'demokratiminist', 'palestinsk', 'organisation', 'mp', 'mynd', 'regering', 'fråg']\n",
      "Topic ID: 48, Words: ['regering', 'riksdag', 'utredning', 'fråg', 'förslag', 'beslut', 'tillkännagiv', 'frågan', 'vill', 'anledning']\n",
      "Topic ID: 49, Words: ['landet', 'sver', 'komm', 'vill', 'del', 'fråg', 'svensk', 'finn', 'också', 'fler']\n"
     ]
    }
   ],
   "source": [
    "# To be able to print the topics for the lda model\n",
    "def get_topics(model, top_words, tf_feature_names):\n",
    "  topics = {}\n",
    "  for i, topic in enumerate(model.components_):\n",
    "    topics[i] = ([tf_feature_names[j] for j in topic.argsort()[:-top_words - 1:-1]])\n",
    "  return topics\n",
    "\n",
    "# Print each topic\n",
    "topics_2 =  get_topics(lda_model_2, top_words, tf_feature_names)\n",
    "print(len(topics_2))\n",
    "for i, topic in topics_2.items():\n",
    "  print(f\"Topic ID: {i}, Words: {topic}\")"
   ]
  },
  {
   "cell_type": "code",
   "execution_count": 23,
   "metadata": {
    "colab": {
     "base_uri": "https://localhost:8080/"
    },
    "executionInfo": {
     "elapsed": 486,
     "status": "ok",
     "timestamp": 1702644443104,
     "user": {
      "displayName": "Elsa Kidman",
      "userId": "09242152687523974658"
     },
     "user_tz": -60
    },
    "id": "171QhfcjaxOq",
    "outputId": "869efec9-8ece-425e-e600-026f20d8d922"
   },
   "outputs": [
    {
     "data": {
      "text/plain": [
       "(41,\n",
       " ['riksrevision',\n",
       "  'statsrådet',\n",
       "  'regering',\n",
       "  'fråg',\n",
       "  'vill',\n",
       "  'anledning',\n",
       "  'brist',\n",
       "  'granskning',\n",
       "  'dag',\n",
       "  'även'])"
      ]
     },
     "execution_count": 23,
     "metadata": {},
     "output_type": "execute_result"
    }
   ],
   "source": [
    "# How to get the most probable topic for each entry document\n",
    "def get_top_topic_document_2(model, doc_topic_entry, topics):\n",
    "\n",
    "  # Get the most likely topic for an entry\n",
    "  max_topic = doc_topic_entry.argmax()\n",
    "  return max_topic, topics[max_topic]\n",
    "\n",
    "# For question at index 0\n",
    "get_top_topic_document_2(lda_model_2, doc_topic[0], topics_2)"
   ]
  },
  {
   "cell_type": "code",
   "execution_count": 24,
   "metadata": {
    "colab": {
     "base_uri": "https://localhost:8080/"
    },
    "executionInfo": {
     "elapsed": 558,
     "status": "ok",
     "timestamp": 1702644123942,
     "user": {
      "displayName": "Elsa Kidman",
      "userId": "09242152687523974658"
     },
     "user_tz": -60
    },
    "id": "rbn1Qnmtfl-N",
    "outputId": "f0972dd5-c8ce-4bb0-b084-a05b6d9bf763"
   },
   "outputs": [
    {
     "data": {
      "text/plain": [
       "6603"
      ]
     },
     "execution_count": 24,
     "metadata": {},
     "output_type": "execute_result"
    }
   ],
   "source": [
    "doc_topic.shape[0]"
   ]
  },
  {
   "cell_type": "code",
   "execution_count": 31,
   "metadata": {
    "id": "lYI0HfcWwn6M"
   },
   "outputs": [
    {
     "name": "stdout",
     "output_type": "stream",
     "text": [
      "C_v coherence score: 0.6948252362369609\n",
      "U_mass coherence score: -19.451116631416294\n"
     ]
    }
   ],
   "source": [
    "from gensim.models import CoherenceModel\n",
    "\n",
    "# To be able to use gensim's coherence score feature with Sklearn\n",
    "model_components = lda_model_2.components_\n",
    "dictionary2 = Dictionary(questions_tokenized)\n",
    "feature_names = [dictionary[i] for i in range(len(dictionary2))]\n",
    "\n",
    "# Get the top words for each topic from the components_ attribute\n",
    "topic_words = []\n",
    "for topic in model_components:\n",
    "    words = [feature_names[i] for i in topic.argsort()[:-nr_topics - 1:-1]] # This gets the words for each topic\n",
    "    topic_words.append(words)\n",
    "\n",
    "c_v_2 = CoherenceModel(topics=topic_words, texts=questions_tokenized, dictionary=dictionary2, coherence='c_v')\n",
    "coherence_c_v_2 = c_v_2.get_coherence()\n",
    "\n",
    "u_mass_2 = CoherenceModel(topics=topic_words, texts=questions_tokenized, dictionary=dictionary2,  coherence='u_mass')\n",
    "coherence_u_mass_2 = u_mass_2.get_coherence()  # get coherence value\n",
    "\n",
    "print(f\"C_v coherence score: {coherence_c_v_2}\")\n",
    "print(f\"U_mass coherence score: {coherence_u_mass_2}\")"
   ]
  }
 ],
 "metadata": {
  "colab": {
   "authorship_tag": "ABX9TyNSk0kdPaJz+zKWEME/z9rj",
   "collapsed_sections": [
    "OjuiM94ubDdH"
   ],
   "provenance": []
  },
  "kernelspec": {
   "display_name": "Python 3 (ipykernel)",
   "language": "python",
   "name": "python3"
  },
  "language_info": {
   "codemirror_mode": {
    "name": "ipython",
    "version": 3
   },
   "file_extension": ".py",
   "mimetype": "text/x-python",
   "name": "python",
   "nbconvert_exporter": "python",
   "pygments_lexer": "ipython3",
   "version": "3.10.12"
  }
 },
 "nbformat": 4,
 "nbformat_minor": 4
}
