{
 "cells": [
  {
   "cell_type": "markdown",
   "metadata": {},
   "source": [
    "## Create igraph object from sentiment and topic data"
   ]
  },
  {
   "cell_type": "markdown",
   "metadata": {},
   "source": [
    "#### Import data"
   ]
  },
  {
   "cell_type": "code",
   "execution_count": 1,
   "metadata": {},
   "outputs": [],
   "source": [
    "# Written by Magnus Olander\n",
    "\n",
    "\n",
    "import pandas as pd\n",
    "import json\n",
    "\n",
    "# Note: Currently, sentiment data is stored in a .csv, and topics in a json file\n",
    "path_sentiment_data = '../../data/data_all/data_question_all_sentiment.csv'\n",
    "path_topic_data = '../../data/data_all/data_all_topic_final.json'\n",
    "\n",
    "# Get sentiment data\n",
    "data_sentiment = pd.read_csv(path_sentiment_data)\n",
    "data_sentiment = json.loads(data_sentiment.to_json(orient='records'))\n",
    "\n",
    "# Get topic data\n",
    "with open(path_topic_data, \"r\") as file:\n",
    "    data_topic = json.load(file)"
   ]
  },
  {
   "cell_type": "markdown",
   "metadata": {},
   "source": [
    "#### Combine the two datasets and handle missmatched entries\n",
    "###### If an entry is only present in either datafiles, they are removed"
   ]
  },
  {
   "cell_type": "code",
   "execution_count": 2,
   "metadata": {},
   "outputs": [
    {
     "name": "stdout",
     "output_type": "stream",
     "text": [
      "Initial length of data_topic: 18994\n",
      "Initial length of data_sentiment: 18997\n",
      "Final length of data file: 18994\n"
     ]
    }
   ],
   "source": [
    "print(\"Initial length of data_topic:\", len(data_topic))\n",
    "print(\"Initial length of data_sentiment:\", len(data_sentiment))\n",
    "\n",
    "index = 0\n",
    "data_final = []\n",
    "\n",
    "while index < min(len(data_topic), len(data_sentiment)):\n",
    "    id_sentiment = data_sentiment[index][\"id_\"]\n",
    "    id_topic = data_topic[index][\"id_\"]\n",
    "    \n",
    "    if id_sentiment != id_topic:\n",
    "        # Remove the mismatched entry from the longer list\n",
    "        if len(data_topic) > len(data_sentiment):\n",
    "            data_topic.pop(index)\n",
    "        else:\n",
    "            data_sentiment.pop(index)\n",
    "    else:\n",
    "        data_sentiment[index]['topic_combined'] = data_topic[index]['top_10_words_combined']\n",
    "        data_sentiment[index]['topic_question'] = data_topic[index]['top_10_words_question']\n",
    "        data_sentiment[index]['topic_answer'] = data_topic[index]['top_10_words_answer']\n",
    "        index += 1\n",
    "\n",
    "# If one list is longer than the other, handle the remaining elements\n",
    "if len(data_topic) > len(data_sentiment):\n",
    "    data_topic = data_topic[len(data_sentiment):]\n",
    "elif len(data_sentiment) > len(data_topic):\n",
    "    data_sentiment = data_sentiment[len(data_topic):]\n",
    "\n",
    "# Final data file\n",
    "data = data_sentiment\n",
    "print(\"Final length of data file:\", len(data))"
   ]
  },
  {
   "cell_type": "markdown",
   "metadata": {},
   "source": [
    "#### Creates igraph object"
   ]
  },
  {
   "cell_type": "code",
   "execution_count": null,
   "metadata": {},
   "outputs": [],
   "source": [
    "import ast\n",
    "from igraph import *\n",
    "import matplotlib.pyplot as plt\n",
    "\n",
    "# Function to check if a vertex with the same name already exists\n",
    "def vertex_exists(graph, name):\n",
    "    for vertex in graph.vs:\n",
    "        if vertex[\"name\"] == name:\n",
    "            return True\n",
    "    return False\n",
    "\n",
    "\n",
    "def add_person_respondent(graph, entry):\n",
    "    undertecknare_name = entry[\"undertecknare_name\"]\n",
    "    undertecknare_partibet = entry[\"undertecknare_partibet\"]\n",
    "    \n",
    "    \n",
    "    # Adding BERT Sentiment Data\n",
    "    bert_probs = ast.literal_eval(entry['question_BERT_probs'])\n",
    "\n",
    "    if not vertex_exists(graph, undertecknare_name):\n",
    "        vertex = graph.add_vertex(undertecknare_name, type=\"person\")\n",
    "        vertex[\"partibet\"] = undertecknare_partibet\n",
    "        vertex[\"question_BERT\"] = [bert_probs]\n",
    "        \n",
    "    elif (graph.vs.find(undertecknare_name)[\"question_BERT\"] == None):\n",
    "        vertex = graph.vs.find(undertecknare_name)\n",
    "        vertex[\"question_BERT\"] = [bert_probs]\n",
    "        \n",
    "    else:\n",
    "        vertex = graph.vs.find(undertecknare_name)\n",
    "        vertex[\"question_BERT\"].append(bert_probs)\n",
    "        \n",
    "\n",
    "        \n",
    "def add_person_answerer(graph, entry, answer):\n",
    "    if (answer != \"\"): #Checks if there is an answer\n",
    "        # Add a node for the person in the igraph\n",
    "        \n",
    "        besvaradav_name = entry[\"besvaradav_name\"]\n",
    "        besvaradav_partibet = entry[\"besvaradav_partibet\"]\n",
    "        \n",
    "        bert_probs = ast.literal_eval(entry['answer_BERT_probs'])\n",
    "      \n",
    "        if not vertex_exists(graph, besvaradav_name):\n",
    "            vertex = graph.add_vertex(besvaradav_name, type=\"person\")\n",
    "            vertex[\"partibet\"] = besvaradav_partibet\n",
    "            vertex[\"answer_BERT\"] = [bert_probs]\n",
    "            \n",
    "        elif (graph.vs.find(besvaradav_name)[\"answer_BERT\"] == None):\n",
    "            vertex = graph.vs.find(besvaradav_name)\n",
    "            vertex[\"answer_BERT\"] = [bert_probs]\n",
    "            \n",
    "        else:\n",
    "            vertex = graph.vs.find(besvaradav_name)\n",
    "            vertex[\"answer_BERT\"].append(bert_probs)\n",
    "        \n",
    "        \n",
    "\n",
    "def add_question_answer(graph, entry, id_):\n",
    "    vertex = graph.add_vertex(id_, type=\"question\")\n",
    "    \n",
    "    # Time\n",
    "    vertex['question_date'] = entry['question_date']\n",
    "    \n",
    "    # Party\n",
    "    vertex['partibet'] = \"?\"\n",
    "\n",
    "    # Topics\n",
    "    vertex['topic_combined'] = entry['topic_combined']\n",
    "    vertex['topic_question'] = entry['topic_question']\n",
    "    vertex['topic_answer'] = entry['topic_answer']\n",
    "    \n",
    "    # Probabilities\n",
    "    bert_probs_a = ast.literal_eval(entry['answer_BERT_probs'])\n",
    "    \n",
    "    vertex['answer_BERT_label'] = entry['answer_BERT_label']\n",
    "    vertex['answer_BERT_label_prob'] = entry['answer_BERT_label_prob']\n",
    "    vertex['answer_by_party'] = entry[\"besvaradav_partibet\"]\n",
    "    \n",
    "    \n",
    "    vertex['question_BERT_label'] = entry['question_BERT_label']\n",
    "    vertex['question_BERT_label_prob'] = entry['question_BERT_label_prob']\n",
    "    vertex['question_by_party'] = entry[\"undertecknare_partibet\"]\n",
    "\n",
    "    \n",
    "    # Q and A\n",
    "    vertex['question'] = entry['question']\n",
    "    vertex['answer'] = entry['answer']\n",
    "\n",
    "\n",
    "# Create an igraph Graph object\n",
    "graph = Graph(directed=True)\n",
    "\n",
    "data_part = data_sentiment\n",
    "for entry in data_part:\n",
    "    id_ = entry['id_']\n",
    "    answer = entry[\"answer\"]\n",
    "    undertecknare_name = entry['undertecknare_name']\n",
    "    besvaradav_name = entry['besvaradav_name']\n",
    "\n",
    "    # Adds a node for the person in the igraph (The one who asked the question)\n",
    "    add_person_respondent(graph, entry)\n",
    "    \n",
    "    # Adds a node for the question-answer into the graph\n",
    "    add_question_answer(graph, entry, id_)    \n",
    "    \n",
    "    # Creates edge between respondent and the question-answer node\n",
    "    graph.add_edge(undertecknare_name, id_)\n",
    "\n",
    "    # Adds a node for the person in the igraph (The one who answered the question)\n",
    "    # Note that this also ands an edge depending on if there in an answer or not\n",
    "    add_person_answerer(graph, entry, answer)\n",
    "    \n",
    "    graph.add_edge(id_, besvaradav_name)\n",
    "\n"
   ]
  },
  {
   "cell_type": "markdown",
   "metadata": {},
   "source": [
    "#### Averaging every politicians sentiment\n",
    "###### Each politicians sentiments in different questions are previously stored in a list, the sentiments will now be averages as a single number"
   ]
  },
  {
   "cell_type": "code",
   "execution_count": null,
   "metadata": {},
   "outputs": [],
   "source": [
    "for vertex in graph.vs.select(type=\"person\"):\n",
    "    if vertex['question_BERT'] is not None or vertex['answer_BERT'] is not None:\n",
    "        if vertex['question_BERT'] is not None:\n",
    "            zipped_lists = zip(*vertex['question_BERT'])\n",
    "        else:\n",
    "            zipped_lists = zip(*vertex['answer_BERT'])\n",
    "\n",
    "        bert_probs = [(sum(group) / len(group)) for group in zipped_lists]\n",
    "\n",
    "        vertex['bert_negative'] = bert_probs[0]\n",
    "        vertex['bert_neutral'] = bert_probs[1]\n",
    "        vertex['bert_positive'] = bert_probs[2]\n",
    "\n",
    "del graph.vs['question_BERT']\n",
    "del graph.vs['answer_BERT']"
   ]
  },
  {
   "cell_type": "markdown",
   "metadata": {},
   "source": [
    "#### Saving Graph"
   ]
  },
  {
   "cell_type": "code",
   "execution_count": null,
   "metadata": {},
   "outputs": [],
   "source": [
    "# Enter name of the graph\n",
    "graph_name = '../../data/data_all/NEW_final_graph'\n",
    "\n",
    "graph.write_graphml(graph_name\".graphml\")"
   ]
  }
 ],
 "metadata": {
  "kernelspec": {
   "display_name": "Python 3 (ipykernel)",
   "language": "python",
   "name": "python3"
  },
  "language_info": {
   "codemirror_mode": {
    "name": "ipython",
    "version": 3
   },
   "file_extension": ".py",
   "mimetype": "text/x-python",
   "name": "python",
   "nbconvert_exporter": "python",
   "pygments_lexer": "ipython3",
   "version": "3.9.7"
  }
 },
 "nbformat": 4,
 "nbformat_minor": 2
}
