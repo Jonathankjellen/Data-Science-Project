{
 "cells": [
  {
   "cell_type": "markdown",
   "metadata": {},
   "source": [
    "## Create Party support file\n",
    "\n",
    "The data first need to be downloaded from the following Github file: [github.com/hampusborgos/SwedishPolls](https://github.com/hampusborgos/SwedishPolls/blob/master/Data/Polls.csv). It will then be filtered and configured in this file."
   ]
  },
  {
   "cell_type": "code",
   "execution_count": null,
   "metadata": {},
   "outputs": [],
   "source": [
    "# Written by Magnus Olander\n",
    "\n",
    "import pandas as pd\n",
    "\n",
    "path_to_original_poll_data = \"\"\n",
    "data = pd.read_csv(path_to_original_poll_data)"
   ]
  },
  {
   "cell_type": "markdown",
   "metadata": {},
   "source": [
    "#### Removes unecessay columns and rows, and changes date to year and month"
   ]
  },
  {
   "cell_type": "code",
   "execution_count": null,
   "metadata": {},
   "outputs": [],
   "source": [
    "data[['Year', 'Month']] = data['PublYearMonth'].str.split('-', expand=True)\n",
    "data = data.groupby([\"Year\", \"Month\"]).mean().reset_index()\n",
    "data = data.drop([\"FI\", \"Uncertain\", \"n\", \"approxPeriod\"], axis=1)\n",
    "data = data.fillna(0)\n",
    "data.head()"
   ]
  },
  {
   "cell_type": "markdown",
   "metadata": {},
   "source": [
    "Change to numbered month instead of swedish string names"
   ]
  },
  {
   "cell_type": "code",
   "execution_count": null,
   "metadata": {},
   "outputs": [],
   "source": [
    "# Mapping for numbered month names\n",
    "month_mapping = {'jan': 1, 'feb': 2, 'mar': 3, 'apr': 4, 'maj': 5, 'jun': 6,\n",
    "                 'jul': 7, 'aug': 8, 'sep': 9, 'okt': 10, 'nov': 11, 'dec': 12}\n",
    "\n",
    "# Map all months in the datafile\n",
    "data['Month'] = data['Month'].str.lower().map(month_mapping)"
   ]
  },
  {
   "cell_type": "markdown",
   "metadata": {},
   "source": [
    "#### Removes data before 2006"
   ]
  },
  {
   "cell_type": "code",
   "execution_count": null,
   "metadata": {},
   "outputs": [],
   "source": [
    "data = data[data[\"Year\"] > \"2005\"]"
   ]
  },
  {
   "cell_type": "markdown",
   "metadata": {},
   "source": [
    "#### Save the altered party support (poll) file"
   ]
  },
  {
   "cell_type": "code",
   "execution_count": null,
   "metadata": {},
   "outputs": [],
   "source": [
    "import os\n",
    "\n",
    "# Get parlamentary data from data directory\n",
    "current_directory = os.getcwd()\n",
    "parent_directory = os.path.abspath(os.path.join(current_directory, os.pardir))\n",
    "data_directory = os.path.join(parent_directory, \"data\")\n",
    "\n",
    "output_name = \"poll.csv\"\n",
    "path = os.path.join(data_directory, output_name)\n",
    "\n",
    "data.to_csv(path, index=False)"
   ]
  }
 ],
 "metadata": {
  "kernelspec": {
   "display_name": "base",
   "language": "python",
   "name": "python3"
  },
  "language_info": {
   "name": "python",
   "version": "3.9.7"
  }
 },
 "nbformat": 4,
 "nbformat_minor": 2
}
