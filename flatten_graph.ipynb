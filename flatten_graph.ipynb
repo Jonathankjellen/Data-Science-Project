{
 "cells": [
  {
   "cell_type": "markdown",
   "metadata": {},
   "source": [
    "## Flatten your Bipartite Graph"
   ]
  },
  {
   "cell_type": "code",
   "execution_count": null,
   "metadata": {},
   "outputs": [],
   "source": [
    "from igraph import *\n",
    "import json\n",
    "\n",
    "path_bipartite_graph = \"\" # Name of original bipartite graph\n",
    "path_flatten_politician_graph = \"\" # Name of flattened politician graph\n",
    "path_flatten_question_graph = \"\" # Name of flattened question graph\n",
    "\n",
    "# Loads original graph\n",
    "graph = Graph.Read_GraphML(path_bipartite_graph)\n",
    "\n",
    "\n",
    "if graph.is_bipartite():\n",
    "\n",
    "    graph.vs[\"is_person\"] = [True if v[\"type\"] == \"person\" else False for v in graph.vs]\n",
    "    \n",
    "    g1_questions, g2_persons = graph.bipartite_projection(graph.vs[\"is_person\"])\n",
    "\n",
    "    g2_persons.write_graphml(path_flatten_politician_graph)\n",
    "    g1_questions.write_graphml(path_flatten_question_graph)"
   ]
  }
 ],
 "metadata": {
  "kernelspec": {
   "display_name": "base",
   "language": "python",
   "name": "python3"
  },
  "language_info": {
   "name": "python",
   "version": "3.9.7"
  }
 },
 "nbformat": 4,
 "nbformat_minor": 2
}
