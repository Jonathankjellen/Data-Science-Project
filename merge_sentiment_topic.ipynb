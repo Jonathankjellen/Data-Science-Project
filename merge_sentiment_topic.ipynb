{
 "cells": [
  {
   "cell_type": "markdown",
   "metadata": {},
   "source": [
    "## Merge the results from the topic and sentiment analysis"
   ]
  },
  {
   "cell_type": "code",
   "execution_count": null,
   "metadata": {},
   "outputs": [],
   "source": [
    "# Written by Magnus Olander\n",
    "\n",
    "import pandas as pd\n",
    "import json\n",
    "import os\n",
    "\n",
    "# Get parlamentary data from data directory\n",
    "current_directory = os.getcwd()\n",
    "parent_directory = os.path.abspath(os.path.join(current_directory, os.pardir))\n",
    "data_directory = os.path.join(parent_directory, \"data\")\n",
    "\n",
    "sentiment_file_name = \"sentiment_analysis.csv\"\n",
    "topic_file_name = \"topic_analysis.json\"\n",
    "\n",
    "# Note: Currently, sentiment data is stored in a .csv, and topics in a json file\n",
    "path_sentiment_data = os.path.join(data_directory, sentiment_file_name)\n",
    "path_topic_data = os.path.join(data_directory, topic_file_name)\n",
    "\n",
    "# Get sentiment data\n",
    "data_sentiment = pd.read_csv(path_sentiment_data)\n",
    "data_sentiment = json.loads(data_sentiment.to_json(orient='records'))\n",
    "\n",
    "# Get topic data\n",
    "with open(path_topic_data, \"r\") as file:\n",
    "    data_topic = json.load(file)"
   ]
  },
  {
   "cell_type": "markdown",
   "metadata": {},
   "source": [
    "#### Combine the two datasets and handle missmatched entries\n",
    "Which means: If an entry is only present in either datafiles, they are removed"
   ]
  },
  {
   "cell_type": "code",
   "execution_count": null,
   "metadata": {},
   "outputs": [],
   "source": [
    "print(\"Initial length of data_topic:\", len(data_topic))\n",
    "print(\"Initial length of data_sentiment:\", len(data_sentiment))\n",
    "\n",
    "index = 0\n",
    "data_final = []\n",
    "\n",
    "while index < min(len(data_topic), len(data_sentiment)):\n",
    "    id_sentiment = data_sentiment[index][\"id_\"]\n",
    "    id_topic = data_topic[index][\"id_\"]\n",
    "    \n",
    "    if id_sentiment != id_topic:\n",
    "        # Remove the mismatched entry from the longer list\n",
    "        if len(data_topic) > len(data_sentiment):\n",
    "            data_topic.pop(index)\n",
    "        else:\n",
    "            data_sentiment.pop(index)\n",
    "    else:\n",
    "        data_sentiment[index]['topic_combined'] = data_topic[index]['top_10_words_combined']\n",
    "        data_sentiment[index]['topic_question'] = data_topic[index]['top_10_words_question']\n",
    "        data_sentiment[index]['topic_answer'] = data_topic[index]['top_10_words_answer']\n",
    "        index += 1\n",
    "\n",
    "# If one list is longer than the other, handle the remaining elements\n",
    "if len(data_topic) > len(data_sentiment):\n",
    "    data_topic = data_topic[len(data_sentiment):]\n",
    "elif len(data_sentiment) > len(data_topic):\n",
    "    data_sentiment = data_sentiment[len(data_topic):]\n",
    "\n",
    "# Final data file\n",
    "data = data_sentiment\n",
    "print(\"Final length of data file:\", len(data))"
   ]
  },
  {
   "cell_type": "markdown",
   "metadata": {},
   "source": [
    "#### Save the merged file"
   ]
  },
  {
   "cell_type": "code",
   "execution_count": null,
   "metadata": {},
   "outputs": [],
   "source": [
    "# Output name for the JSON file\n",
    "json_file_name = \"sentiment_topic_data.json\"\n",
    "\n",
    "# Full path to save the JSON file\n",
    "json_file_path = os.path.join(data_directory, json_file_name)\n",
    "\n",
    "# Save the JSON data to the file\n",
    "with open(json_file_path, 'w') as json_file:\n",
    "    json.dump(data, json_file, indent=2)"
   ]
  }
 ],
 "metadata": {
  "language_info": {
   "name": "python"
  }
 },
 "nbformat": 4,
 "nbformat_minor": 2
}
