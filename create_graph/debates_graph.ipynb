{
 "cells": [
  {
   "cell_type": "markdown",
   "metadata": {
    "id": "zD1b5WlqCa80"
   },
   "source": [
    "# A graph of debates"
   ]
  },
  {
   "cell_type": "code",
   "execution_count": null,
   "metadata": {
    "colab": {
     "base_uri": "https://localhost:8080/"
    },
    "executionInfo": {
     "elapsed": 14474,
     "status": "ok",
     "timestamp": 1702664435177,
     "user": {
      "displayName": "Elsa Kidman",
      "userId": "09242152687523974658"
     },
     "user_tz": -60
    },
    "id": "Mzm6Ddy-qCAx",
    "outputId": "4d291533-7b53-46d2-cebe-019992386a88"
   },
   "outputs": [],
   "source": [
    "# ! pip install igraph"
   ]
  },
  {
   "cell_type": "code",
   "execution_count": 1,
   "metadata": {
    "id": "rzRdM1uXqGwc"
   },
   "outputs": [],
   "source": [
    "import json\n",
    "f = open('data/data_2018-09-09_2022-09-11/data_debates_2018-09-09_to_2022-09-11.txt')\n",
    "data_init_debates = json.load(f)"
   ]
  },
  {
   "cell_type": "markdown",
   "metadata": {
    "id": "kGeOlzJass-W"
   },
   "source": [
    "This saves the debates as a graph with one node being the answer and question (in one) and edges to nodes of people asking and answering the queston."
   ]
  },
  {
   "cell_type": "code",
   "execution_count": 4,
   "metadata": {
    "id": "goNwgnM9p0z7"
   },
   "outputs": [],
   "source": [
    "from igraph import *\n",
    "import matplotlib.pyplot as plt\n",
    "\n",
    "# Function to check if a vertex with the same name already exists\n",
    "def vertex_exists(graph, name):\n",
    "    for vertex in graph.vs:\n",
    "        if vertex[\"name\"] == name:\n",
    "            return True\n",
    "    return False\n",
    "\n",
    "\n",
    "# Create an igraph Graph object\n",
    "graph = Graph(directed=True)\n",
    "count = 0\n",
    "for entry in data_init_debates:\n",
    "    id_ = entry['id_']\n",
    "    question = entry[\"question\"]\n",
    "    answer_debates = entry[\"answer\"]\n",
    "\n",
    "    undertecknare_name = entry[\"undertecknare_name\"]\n",
    "    undertecknare_partibet = entry[\"undertecknare_partibet\"]\n",
    "\n",
    "    # Add a node for the person in the igraph\n",
    "    if not vertex_exists(graph, undertecknare_name):\n",
    "        vertex = graph.add_vertex(undertecknare_name, type=\"person\")\n",
    "        vertex[\"party\"] = undertecknare_partibet\n",
    "\n",
    "    vertex_que = graph.add_vertex(id_, type=\"question\")\n",
    "    vertex_que['answer'] = answer_debates\n",
    "    vertex_que['question'] = question\n",
    "    vertex_que['party'] = \"?\"\n",
    "    graph.add_edge(undertecknare_name, id_)\n",
    "\n",
    "    if len(answer_debates) != 0: #Checks if there is an answer\n",
    "        for answer in answer_debates:\n",
    "        # Add a node for the person in the igraph\n",
    "          answer_person = answer[\"besvaradav_name\"]\n",
    "          answer_party = entry[\"besvaradav_partibet\"]\n",
    "          if not vertex_exists(graph, answer_person):\n",
    "              vertex = graph.add_vertex(answer_person, type=\"person\")\n",
    "              vertex[\"party\"] = answer_party\n",
    "\n",
    "          graph.add_edge(id_, answer_person)\n"
   ]
  },
  {
   "cell_type": "code",
   "execution_count": 5,
   "metadata": {
    "colab": {
     "base_uri": "https://localhost:8080/",
     "height": 175
    },
    "executionInfo": {
     "elapsed": 206,
     "status": "error",
     "timestamp": 1702664226776,
     "user": {
      "displayName": "Elsa Kidman",
      "userId": "09242152687523974658"
     },
     "user_tz": -60
    },
    "id": "IiVdFWbWrboe",
    "outputId": "db4f6941-97a8-4a3f-d856-2552b1e25368"
   },
   "outputs": [],
   "source": [
    "graph.write_graphml(\"graphs/debates_graph.graphml\")"
   ]
  },
  {
   "cell_type": "markdown",
   "metadata": {
    "id": "IjdGnp9otcOJ"
   },
   "source": [
    "Save the debates as questions as one node and an edge from a person asking to that question and the answers and the persons answering to those."
   ]
  },
  {
   "cell_type": "code",
   "execution_count": 12,
   "metadata": {
    "id": "3g3_YlZhtxxp"
   },
   "outputs": [],
   "source": [
    "from igraph import *\n",
    "import matplotlib.pyplot as plt\n",
    "\n",
    "# Function to check if a vertex with the same name already exists\n",
    "def vertex_exists(graph, name):\n",
    "    for vertex in graph.vs:\n",
    "        if vertex[\"name\"] == name:\n",
    "            return True\n",
    "    return False\n",
    "\n",
    "\n",
    "graph_qa = Graph(directed=True)\n",
    "for entry in data_init_debates:\n",
    "    id_ = entry['id_']\n",
    "    question = entry[\"question\"]\n",
    "    answer_debates = entry[\"answer\"]\n",
    "\n",
    "    undertecknare_name = entry[\"undertecknare_name\"]\n",
    "    undertecknare_partibet = entry[\"undertecknare_partibet\"]\n",
    "\n",
    "    # Add a node for the person in the igraph\n",
    "    if not vertex_exists(graph_qa, undertecknare_name):\n",
    "        vertex = graph_qa.add_vertex(undertecknare_name, type=\"person\")\n",
    "        vertex[\"party\"] = undertecknare_partibet\n",
    "\n",
    "    vertex_q = graph.add_vertex(id_, type=\"question\")\n",
    "    vertex_q['question'] = question\n",
    "    vertex_q['party'] = \"?\"\n",
    "    graph.add_edge(undertecknare_name, id_)\n",
    "    \n",
    "    if len(answer_debates) != 0: #Checks if there is an answer\n",
    "        for j, answer in enumerate(answer_debates):\n",
    "          id_a = id_+\"a\"+str(j)\n",
    "        # Add a node for the person in the igraph\n",
    "          answer_person = answer[\"besvaradav_name\"]\n",
    "          answer_party = entry[\"besvaradav_partibet\"]\n",
    "          answer_text = entry[\"answer\"]\n",
    "          if not vertex_exists(graph, answer_person):\n",
    "              vertex = graph.add_vertex(answer_person, type=\"person\")\n",
    "              vertex[\"party\"] = answer_party\n",
    "              \n",
    "          vertex_a = graph.add_vertex(id_a, type=\"answer\")\n",
    "          vertex_a[\"party\"] = \"!\"\n",
    "          graph.add_edge(answer_person, id_a)\n"
   ]
  },
  {
   "cell_type": "code",
   "execution_count": 13,
   "metadata": {},
   "outputs": [],
   "source": [
    "graph.write_graphml(\"graphs/debates_graph_qa.graphml\")"
   ]
  }
 ],
 "metadata": {
  "colab": {
   "authorship_tag": "ABX9TyPgpAlD6RA8A7LHiVSGf8uG",
   "provenance": []
  },
  "kernelspec": {
   "display_name": "Python 3 (ipykernel)",
   "language": "python",
   "name": "python3"
  },
  "language_info": {
   "codemirror_mode": {
    "name": "ipython",
    "version": 3
   },
   "file_extension": ".py",
   "mimetype": "text/x-python",
   "name": "python",
   "nbconvert_exporter": "python",
   "pygments_lexer": "ipython3",
   "version": "3.10.12"
  }
 },
 "nbformat": 4,
 "nbformat_minor": 4
}
